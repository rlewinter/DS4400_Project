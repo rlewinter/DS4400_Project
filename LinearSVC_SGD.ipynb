{
 "cells": [
  {
   "cell_type": "code",
   "execution_count": 1,
   "id": "bb46f012-d327-406e-826c-1e935c4b998e",
   "metadata": {},
   "outputs": [],
   "source": [
    "import numpy as np\n",
    "import pandas as pd\n",
    "import pickle\n",
    "import matplotlib.pyplot as plt\n",
    "from sklearn.model_selection import StratifiedKFold\n",
    "from sklearn.linear_model import SGDClassifier\n",
    "from sklearn.experimental import enable_halving_search_cv\n",
    "from sklearn.model_selection import HalvingGridSearchCV\n",
    "from sklearn.model_selection import ParameterGrid\n",
    "from sklearn.metrics import RocCurveDisplay\n",
    "from sklearn.model_selection import learning_curve\n",
    "from sklearn import metrics\n",
    "from sklearn.metrics import roc_auc_score\n",
    "from sklearn.metrics import roc_curve, auc"
   ]
  },
  {
   "cell_type": "markdown",
   "id": "f722556a-3b42-4bc2-8c4a-1e7dfb872c21",
   "metadata": {
    "tags": []
   },
   "source": [
    "# Linear SVC with SGD\n",
    "\n",
    "Load data"
   ]
  },
  {
   "cell_type": "code",
   "execution_count": 2,
   "id": "954ffaca-69be-4cd3-a46e-c4bf10d99054",
   "metadata": {},
   "outputs": [],
   "source": [
    "x_trn = pd.read_pickle(\"./data/x_train.pkl\")\n",
    "y_trn = pd.read_pickle(\"./data/y_train.pkl\")\n",
    "x_tst = pd.read_pickle(\"./data/x_test.pkl\")\n",
    "x_train_roc = pd.read_pickle(\"./data/x_train_roc.pkl\")\n",
    "y_train_roc = pd.read_pickle(\"./data/y_train_roc.pkl\")\n",
    "x_val_roc = pd.read_pickle(\"./data/x_val_roc.pkl\")\n",
    "y_val_roc = pd.read_pickle(\"./data/y_val_roc.pkl\")"
   ]
  },
  {
   "cell_type": "markdown",
   "id": "c7dbbf19-d7c8-45e5-809e-242a125e2691",
   "metadata": {},
   "source": [
    "Set random seed"
   ]
  },
  {
   "cell_type": "code",
   "execution_count": 3,
   "id": "03b9542e-d1df-4e61-b492-4aab39175ff2",
   "metadata": {},
   "outputs": [],
   "source": [
    "rng = np.random.RandomState(0)"
   ]
  },
  {
   "cell_type": "markdown",
   "id": "f89d3e2f-b80d-44c3-b4bb-783c69f49140",
   "metadata": {},
   "source": [
    "Create cross-validation generator"
   ]
  },
  {
   "cell_type": "code",
   "execution_count": 4,
   "id": "e8537350-227c-4477-a1ff-9e96173340e7",
   "metadata": {},
   "outputs": [],
   "source": [
    "cvg = StratifiedKFold(n_splits=5, shuffle=False)"
   ]
  },
  {
   "cell_type": "markdown",
   "id": "1e13a134-60f2-4401-9d8f-ae0d5f420431",
   "metadata": {},
   "source": [
    "Create an instance of the classifier we want to use"
   ]
  },
  {
   "cell_type": "code",
   "execution_count": 5,
   "id": "203f689e-e6b8-404b-9e3e-60fab63c6a49",
   "metadata": {},
   "outputs": [],
   "source": [
    "clf = SGDClassifier(loss='hinge', penalty='l2', random_state=rng)"
   ]
  },
  {
   "cell_type": "markdown",
   "id": "f6e40b7c-480c-4106-a4f0-49284531a499",
   "metadata": {},
   "source": [
    "Take a look at the parameters we'll need to create a grid for"
   ]
  },
  {
   "cell_type": "code",
   "execution_count": 6,
   "id": "bd94fe07-3b7f-4406-b72f-58366eb74a1e",
   "metadata": {},
   "outputs": [
    {
     "data": {
      "text/plain": [
       "{'alpha': 0.0001,\n",
       " 'average': False,\n",
       " 'class_weight': None,\n",
       " 'early_stopping': False,\n",
       " 'epsilon': 0.1,\n",
       " 'eta0': 0.0,\n",
       " 'fit_intercept': True,\n",
       " 'l1_ratio': 0.15,\n",
       " 'learning_rate': 'optimal',\n",
       " 'loss': 'hinge',\n",
       " 'max_iter': 1000,\n",
       " 'n_iter_no_change': 5,\n",
       " 'n_jobs': None,\n",
       " 'penalty': 'l2',\n",
       " 'power_t': 0.5,\n",
       " 'random_state': RandomState(MT19937) at 0x7FBC0B26CC40,\n",
       " 'shuffle': True,\n",
       " 'tol': 0.001,\n",
       " 'validation_fraction': 0.1,\n",
       " 'verbose': 0,\n",
       " 'warm_start': False}"
      ]
     },
     "execution_count": 6,
     "metadata": {},
     "output_type": "execute_result"
    }
   ],
   "source": [
    "clf.get_params(deep=False)"
   ]
  },
  {
   "cell_type": "markdown",
   "id": "9f01b9a0-03b2-4740-b766-c5f3a04df8ca",
   "metadata": {},
   "source": [
    "Create parameter grid"
   ]
  },
  {
   "cell_type": "code",
   "execution_count": 7,
   "id": "1dd07829-03df-49bf-b039-298543bb18ef",
   "metadata": {},
   "outputs": [],
   "source": [
    "param_grid = {'alpha':np.logspace(-5,-3,num=20,base=10,dtype='float'),\n",
    "              'tol':np.logspace(-5,-3,num=20,base=10,dtype='float')}"
   ]
  },
  {
   "cell_type": "markdown",
   "id": "61b8a9aa-40c1-412d-abdb-7c8c20a4efde",
   "metadata": {},
   "source": [
    "Create successive halving grid search cross-validation estimator"
   ]
  },
  {
   "cell_type": "code",
   "execution_count": 8,
   "id": "a541c719-4035-470c-bef1-e18ea153c4d7",
   "metadata": {},
   "outputs": [
    {
     "name": "stdout",
     "output_type": "stream",
     "text": [
      "SGDClassifier(alpha=0.001, random_state=RandomState(MT19937) at 0x7FBC0B371640)\n",
      "{'alpha': 0.001, 'tol': 0.001}\n"
     ]
    }
   ],
   "source": [
    "search = HalvingGridSearchCV(estimator=clf, \n",
    "                             param_grid=param_grid, \n",
    "                             factor=2,\n",
    "                             cv=cvg, \n",
    "                             random_state=rng)\n",
    "search.fit(x_trn, y_trn)\n",
    "print(search.best_estimator_)\n",
    "print(search.best_params_)"
   ]
  },
  {
   "cell_type": "markdown",
   "id": "8805da1a-68ba-4a2b-a2b0-421a190f5e14",
   "metadata": {},
   "source": [
    "Create and save successive halving heatmap https://scikit-learn.org/stable/auto_examples/model_selection/plot_successive_halving_heatmap.html#"
   ]
  },
  {
   "cell_type": "code",
   "execution_count": 9,
   "id": "7f6f1b48-c290-4558-bcc9-8df115947ec8",
   "metadata": {},
   "outputs": [],
   "source": [
    "#TODO"
   ]
  },
  {
   "cell_type": "markdown",
   "id": "afe86419-db81-429c-b26c-ce6b259c7c97",
   "metadata": {},
   "source": [
    "Plot and save candidate scores over successive halving iterations https://scikit-learn.org/stable/auto_examples/model_selection/plot_successive_halving_iterations.html#"
   ]
  },
  {
   "cell_type": "code",
   "execution_count": 10,
   "id": "306d946a-1589-4bdc-9b3f-248a4358fb41",
   "metadata": {},
   "outputs": [
    {
     "data": {
      "image/png": "[encoded data removed]",
      "text/plain": [
       "<Figure size 432x288 with 1 Axes>"
      ]
     },
     "metadata": {
      "needs_background": "light"
     },
     "output_type": "display_data"
    }
   ],
   "source": [
    "results = pd.DataFrame(search.cv_results_)\n",
    "results[\"params_str\"] = results.params.apply(str)\n",
    "results.drop_duplicates(subset=(\"params_str\", \"iter\"), inplace=True)\n",
    "mean_scores = results.pivot(\n",
    "    index=\"iter\", columns=\"params_str\", values=\"mean_test_score\"\n",
    ")\n",
    "ax = mean_scores.plot(legend=False, alpha=0.6)\n",
    "\n",
    "labels = [\n",
    "    f\"iter={i}\\nn_samples={search.n_resources_[i]}\\nn_candidates={search.n_candidates_[i]}\"\n",
    "    for i in range(search.n_iterations_)\n",
    "]\n",
    "\n",
    "ax.set_xticks(range(search.n_iterations_))\n",
    "ax.set_xticklabels(labels, rotation=45, multialignment=\"left\")\n",
    "ax.set_title(\"Scores of candidates over iterations\")\n",
    "ax.set_ylabel(\"mean test score\", fontsize=15)\n",
    "ax.set_xlabel(\"iterations\", fontsize=15)\n",
    "plt.tight_layout()\n",
    "plt.show()\n",
    "#TODO: save plot"
   ]
  },
  {
   "cell_type": "markdown",
   "id": "e8a261ff-0682-48a5-81e2-34fca8549301",
   "metadata": {},
   "source": [
    "Plot and save feature importance scores to determine top features https://scikit-learn.org/stable/auto_examples/ensemble/plot_forest_importances.html"
   ]
  },
  {
   "cell_type": "code",
   "execution_count": 59,
   "id": "976e484a-fcb9-4c25-9f93-c005a9f9ffb2",
   "metadata": {},
   "outputs": [
    {
     "data": {
      "image/png": "[encoded data removed]",
      "text/plain": [
       "<Figure size 432x288 with 1 Axes>"
      ]
     },
     "metadata": {
      "needs_background": "light"
     },
     "output_type": "display_data"
    }
   ],
   "source": [
    "coef = clf.coef_\n",
    "coef = coef[0,:]\n",
    "features = x_trn.columns\n",
    "arg_rank = np.argsort(-np.abs(coef))\n",
    "\n",
    "\n",
    "arg_rank\n",
    "\n",
    "used_features = 9#len(features)\n",
    "\n",
    "# Plot coefficient chart\n",
    "plt.hlines( np.arange(used_features),0,coef, color='red')\n",
    "plt.plot(coef, np.arange(used_features), 'D')\n",
    "plt.plot([0, 0], [np.arange(used_features).min(), np.arange(used_features).max()], '--')\n",
    "plt.title(\"Coefficients of API Model\")\n",
    "plt.ylabel(\"API Features\")\n",
    "plt.xlabel(\"Coefficients from API model\")\n",
    "plt.yticks(np.arange(used_features),features)\n",
    "plt.tight_layout()"
   ]
  },
  {
   "cell_type": "markdown",
   "id": "9dfc70ab-7d88-42cf-9f02-c576086534a1",
   "metadata": {},
   "source": [
    "Plot and save AUROC curve"
   ]
  },
  {
   "cell_type": "code",
   "execution_count": 12,
   "id": "7489c0f6-a488-48cb-9fb0-7440b4cd0a14",
   "metadata": {},
   "outputs": [
    {
     "name": "stdout",
     "output_type": "stream",
     "text": [
      "training score:1.0\n",
      "validation score:1.0\n"
     ]
    },
    {
     "data": {
      "image/png": "[encoded data removed]",
      "text/plain": [
       "<Figure size 432x288 with 1 Axes>"
      ]
     },
     "metadata": {
      "needs_background": "light"
     },
     "output_type": "display_data"
    }
   ],
   "source": [
    "clf_roc = SGDClassifier(loss='hinge', penalty='l2', random_state=rng)\n",
    "clf_roc.set_params(**search.best_params_)\n",
    "clf_roc.fit(x_train_roc, y_train_roc)\n",
    "y_pred_roc = clf_roc.predict(x_val_roc)\n",
    "\n",
    "fpr, tpr, _ = roc_curve(y_val_roc, y_pred_roc, pos_label=1)\n",
    "roc_auc = auc(fpr, tpr)\t\n",
    "\n",
    "AUC = metrics.auc(fpr, tpr)\n",
    "AUC\n",
    "\n",
    "plt.figure()\n",
    "lw = 2\n",
    "plt.plot(fpr, tpr, color='darkorange',\n",
    "         lw=lw, label='AUROC for Clinical (area = %0.2f)' % roc_auc)\n",
    "plt.plot([0, 1], [0, 1], color='navy', lw=lw, linestyle='--')\n",
    "plt.xlim([0.0, 1.0])\n",
    "plt.ylim([0.0, 1.0])\n",
    "plt.xlabel('False Positive Rate')\n",
    "plt.ylabel('True Positive Rate')\n",
    "plt.legend(loc=\"lower right\")\n",
    "\n",
    "print('training score:' + str(clf_roc.score(x_train_roc, y_train_roc)))\n",
    "print('validation score:' + str(clf_roc.score(x_val_roc,y_val_roc)))"
   ]
  },
  {
   "cell_type": "markdown",
   "id": "9ef4af07-1617-404f-ab6e-668b7785b7ea",
   "metadata": {},
   "source": [
    "Set classifier parameters to optimal values identified by cross-validation and fit on entire training set, then output predictions on test set"
   ]
  },
  {
   "cell_type": "code",
   "execution_count": 13,
   "id": "4e9da0a2-359d-4db3-a74a-1478757a63fe",
   "metadata": {},
   "outputs": [
    {
     "data": {
      "text/plain": [
       "1.0"
      ]
     },
     "execution_count": 13,
     "metadata": {},
     "output_type": "execute_result"
    }
   ],
   "source": [
    "clf.set_params(**search.best_params_)\n",
    "clf.fit(x_trn, y_trn)\n",
    "\n",
    "#we need to decide what to do with these predictions, since it's an unlabeled test set.\n",
    "y_pred = clf.predict(x_tst)\n",
    "pickle.dump(y_pred,open(\"./data/y_pred_LinearSVC_SGD.pkl\", \"wb\"))\n",
    "\n",
    "clf.score(x_trn, y_trn)"
   ]
  }
 ],
 "metadata": {
  "kernelspec": {
   "display_name": "Python 3",
   "language": "python",
   "name": "python3"
  },
  "language_info": {
   "codemirror_mode": {
    "name": "ipython",
    "version": 3
   },
   "file_extension": ".py",
   "mimetype": "text/x-python",
   "name": "python",
   "nbconvert_exporter": "python",
   "pygments_lexer": "ipython3",
   "version": "3.8.8"
  }
 },
 "nbformat": 4,
 "nbformat_minor": 5
}
