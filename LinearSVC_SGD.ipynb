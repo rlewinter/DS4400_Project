{
 "cells": [
  {
   "cell_type": "code",
   "execution_count": null,
   "id": "bb46f012-d327-406e-826c-1e935c4b998e",
   "metadata": {},
   "outputs": [],
   "source": [
    "import numpy as np\n",
    "from sklearn.model_selection import StratifiedKFold\n",
    "from sklearn.linear_model import SGDClassifier\n",
    "from sklearn.experimental import enable_halving_search_cv\n",
    "from sklearn.model_selection import HalvingGridSearchCV\n",
    "from sklearn.model_selection import ParameterGrid\n",
    "from sklearn.metrics import RocCurveDisplay\n",
    "from sklearn.model_selection import learning_curve"
   ]
  },
  {
   "cell_type": "markdown",
   "id": "f722556a-3b42-4bc2-8c4a-1e7dfb872c21",
   "metadata": {
    "tags": []
   },
   "source": [
    "# Linear SVC with SGD\n",
    "\n",
    "Load data"
   ]
  },
  {
   "cell_type": "code",
   "execution_count": null,
   "id": "954ffaca-69be-4cd3-a46e-c4bf10d99054",
   "metadata": {},
   "outputs": [],
   "source": [
    "x_trn = None #TODO\n",
    "y_trn = None\n",
    "x_tst = None"
   ]
  },
  {
   "cell_type": "markdown",
   "id": "c7dbbf19-d7c8-45e5-809e-242a125e2691",
   "metadata": {},
   "source": [
    "Set random seed"
   ]
  },
  {
   "cell_type": "code",
   "execution_count": null,
   "id": "03b9542e-d1df-4e61-b492-4aab39175ff2",
   "metadata": {},
   "outputs": [],
   "source": [
    "rng = np.random.RandomState(0)"
   ]
  },
  {
   "cell_type": "markdown",
   "id": "f89d3e2f-b80d-44c3-b4bb-783c69f49140",
   "metadata": {},
   "source": [
    "Create cross-validation generator"
   ]
  },
  {
   "cell_type": "code",
   "execution_count": null,
   "id": "e8537350-227c-4477-a1ff-9e96173340e7",
   "metadata": {},
   "outputs": [],
   "source": [
    "cvg = StratifiedKFold(n_splits=5, shuffle=False, random_state=rng)"
   ]
  },
  {
   "cell_type": "markdown",
   "id": "1e13a134-60f2-4401-9d8f-ae0d5f420431",
   "metadata": {},
   "source": [
    "Create an instance of the classifier we want to use"
   ]
  },
  {
   "cell_type": "code",
   "execution_count": null,
   "id": "203f689e-e6b8-404b-9e3e-60fab63c6a49",
   "metadata": {},
   "outputs": [],
   "source": [
    "clf = SGDClassifier(loss='hinge', penalty='l2', random_state=rng)"
   ]
  },
  {
   "cell_type": "markdown",
   "id": "f6e40b7c-480c-4106-a4f0-49284531a499",
   "metadata": {},
   "source": [
    "Take a look at the parameters we'll need to create a grid for"
   ]
  },
  {
   "cell_type": "code",
   "execution_count": null,
   "id": "bd94fe07-3b7f-4406-b72f-58366eb74a1e",
   "metadata": {},
   "outputs": [],
   "source": [
    "clf.get_params(deep=False)"
   ]
  },
  {
   "cell_type": "markdown",
   "id": "9f01b9a0-03b2-4740-b766-c5f3a04df8ca",
   "metadata": {},
   "source": [
    "Create parameter grid"
   ]
  },
  {
   "cell_type": "code",
   "execution_count": null,
   "id": "1dd07829-03df-49bf-b039-298543bb18ef",
   "metadata": {},
   "outputs": [],
   "source": [
    "param_grid = {}#TODO\n",
    "param_grid = ParameterGrid(param_grid)"
   ]
  },
  {
   "cell_type": "markdown",
   "id": "61b8a9aa-40c1-412d-abdb-7c8c20a4efde",
   "metadata": {},
   "source": [
    "Create successive halving grid search cross-validation estimator"
   ]
  },
  {
   "cell_type": "code",
   "execution_count": null,
   "id": "a541c719-4035-470c-bef1-e18ea153c4d7",
   "metadata": {},
   "outputs": [],
   "source": [
    "search = HalvingGridSearchCV(estimator=clf, \n",
    "                             param_grid=param_grid, \n",
    "                             factor=3, \n",
    "                             cv=cvg, \n",
    "                             random_state=rng).fit(x_trn, y_trn)"
   ]
  },
  {
   "cell_type": "markdown",
   "id": "8805da1a-68ba-4a2b-a2b0-421a190f5e14",
   "metadata": {},
   "source": [
    "Create and save successive halving heatmap https://scikit-learn.org/stable/auto_examples/model_selection/plot_successive_halving_heatmap.html#"
   ]
  },
  {
   "cell_type": "code",
   "execution_count": null,
   "id": "7f6f1b48-c290-4558-bcc9-8df115947ec8",
   "metadata": {},
   "outputs": [],
   "source": [
    "#TODO"
   ]
  },
  {
   "cell_type": "markdown",
   "id": "afe86419-db81-429c-b26c-ce6b259c7c97",
   "metadata": {},
   "source": [
    "Plot and save candidate scores over successive halving iterations https://scikit-learn.org/stable/auto_examples/model_selection/plot_successive_halving_iterations.html#"
   ]
  },
  {
   "cell_type": "code",
   "execution_count": null,
   "id": "306d946a-1589-4bdc-9b3f-248a4358fb41",
   "metadata": {},
   "outputs": [],
   "source": [
    "#TODO"
   ]
  },
  {
   "cell_type": "markdown",
   "id": "e8a261ff-0682-48a5-81e2-34fca8549301",
   "metadata": {},
   "source": [
    "Plot and save feature importance scores to determine top features https://scikit-learn.org/stable/auto_examples/ensemble/plot_forest_importances.html"
   ]
  },
  {
   "cell_type": "code",
   "execution_count": null,
   "id": "976e484a-fcb9-4c25-9f93-c005a9f9ffb2",
   "metadata": {},
   "outputs": [],
   "source": [
    "#TODO"
   ]
  },
  {
   "cell_type": "markdown",
   "id": "9dfc70ab-7d88-42cf-9f02-c576086534a1",
   "metadata": {},
   "source": [
    "Plot and save ROC curve https://scikit-learn.org/stable/modules/generated/sklearn.metrics.RocCurveDisplay.html#sklearn.metrics.RocCurveDisplay.from_predictions"
   ]
  },
  {
   "cell_type": "code",
   "execution_count": null,
   "id": "7489c0f6-a488-48cb-9fb0-7440b4cd0a14",
   "metadata": {},
   "outputs": [],
   "source": [
    "#TODO\n",
    "#use RocCurveDisplay.from_predictions(y_true, y_pred)"
   ]
  },
  {
   "cell_type": "markdown",
   "id": "9ef4af07-1617-404f-ab6e-668b7785b7ea",
   "metadata": {},
   "source": [
    "Set classifier parameters to optimal values identified by cross-validation and fit on entire training set, then output predictions on test set"
   ]
  },
  {
   "cell_type": "code",
   "execution_count": null,
   "id": "4e9da0a2-359d-4db3-a74a-1478757a63fe",
   "metadata": {},
   "outputs": [],
   "source": [
    "clf.set_params(search.best_params_) #check value, might need to join with params from block 4\n",
    "clf.fit(x_trn, y_trn)\n",
    "#we need to decide what to do with these predictions, since it's an unlabeled test set."
   ]
  }
 ],
 "metadata": {
  "kernelspec": {
   "display_name": "Python 3 (ipykernel)",
   "language": "python",
   "name": "python3"
  },
  "language_info": {
   "codemirror_mode": {
    "name": "ipython",
    "version": 3
   },
   "file_extension": ".py",
   "mimetype": "text/x-python",
   "name": "python",
   "nbconvert_exporter": "python",
   "pygments_lexer": "ipython3",
   "version": "3.8.8"
  }
 },
 "nbformat": 4,
 "nbformat_minor": 5
}
