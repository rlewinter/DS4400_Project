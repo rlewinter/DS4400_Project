{
 "cells": [
  {
   "cell_type": "markdown",
   "id": "149f8a4c",
   "metadata": {},
   "source": [
    "# Ridge Regression Classifier\n",
    "\n",
    "## Import Libraries"
   ]
  },
  {
   "cell_type": "code",
   "execution_count": 2,
   "id": "2bed06a2",
   "metadata": {},
   "outputs": [],
   "source": [
    "import numpy as np\n",
    "import pandas as pd\n",
    "import pickle\n",
    "import matplotlib.pyplot as plt\n",
    "from sklearn.model_selection import StratifiedKFold\n",
    "from sklearn.linear_model import RidgeClassifier\n",
    "from sklearn.linear_model import LogisticRegression\n",
    "from sklearn.experimental import enable_halving_search_cv\n",
    "from sklearn.model_selection import HalvingGridSearchCV\n",
    "from sklearn.model_selection import ParameterGrid\n",
    "from sklearn.metrics import RocCurveDisplay\n",
    "from sklearn.model_selection import learning_curve\n",
    "from sklearn import metrics\n",
    "from sklearn.metrics import roc_auc_score\n",
    "from sklearn.metrics import roc_curve, auc\n",
    "from warnings import simplefilter\n",
    "from sklearn.exceptions import ConvergenceWarning"
   ]
  },
  {
   "cell_type": "markdown",
   "id": "448ca3d0-7422-4a43-8022-0abe123e916e",
   "metadata": {},
   "source": [
    "## Load Data\n",
    "Preprocessed train (x, y) and test (x) datasets for model training and testing as well as separate x/y train/val datasets for ROC computation."
   ]
  },
  {
   "cell_type": "code",
   "execution_count": 3,
   "id": "cc931920-5221-424c-8db4-4271ed13e705",
   "metadata": {},
   "outputs": [],
   "source": [
    "x_trn = pd.read_pickle(\"./data/x_train.pkl\")\n",
    "y_trn = pd.read_pickle(\"./data/y_train.pkl\")\n",
    "x_tst = pd.read_pickle(\"./data/x_test.pkl\")\n",
    "x_train_roc = pd.read_pickle(\"./data/x_train_roc.pkl\")\n",
    "y_train_roc = pd.read_pickle(\"./data/y_train_roc.pkl\")\n",
    "x_val_roc = pd.read_pickle(\"./data/x_val_roc.pkl\")\n",
    "y_val_roc = pd.read_pickle(\"./data/y_val_roc.pkl\")"
   ]
  },
  {
   "cell_type": "markdown",
   "id": "bce2adc6",
   "metadata": {},
   "source": [
    "## Initialize Model"
   ]
  },
  {
   "cell_type": "markdown",
   "id": "f3d811f3-6e44-4830-8590-ef1c5e304a6f",
   "metadata": {},
   "source": [
    "Set random seed"
   ]
  },
  {
   "cell_type": "code",
   "execution_count": 8,
   "id": "2820eba5-770b-4d31-b4fa-bcb9d5e2a331",
   "metadata": {},
   "outputs": [],
   "source": [
    "rng = np.random.RandomState(0)"
   ]
  },
  {
   "cell_type": "markdown",
   "id": "4c227367-92e7-4430-a69b-f0a7ca71d3cb",
   "metadata": {},
   "source": [
    "Create cross-validation generator"
   ]
  },
  {
   "cell_type": "code",
   "execution_count": 9,
   "id": "0348c635-ffb0-4608-b403-9a372b22fb9b",
   "metadata": {},
   "outputs": [],
   "source": [
    "# Dataset split into 5 parts (80% | 20% Train/Val)\n",
    "cvg = StratifiedKFold(n_splits=5, shuffle=False)"
   ]
  },
  {
   "cell_type": "markdown",
   "id": "83e853f5-5ae4-4589-8127-2b13048c3d0b",
   "metadata": {},
   "source": [
    "Create an instance of the classifier we want to use"
   ]
  },
  {
   "cell_type": "code",
   "execution_count": 10,
   "id": "25a2700a-2d6f-466d-8eaf-79ea85245ae0",
   "metadata": {},
   "outputs": [],
   "source": [
    "# Specify model solver: saga (uses a stochastic average gradient descent)\n",
    "clf = RidgeClassifier(solver='saga', random_state=rng)"
   ]
  },
  {
   "cell_type": "markdown",
   "id": "aabecee1",
   "metadata": {},
   "source": [
    "## Hyperparameter Tuning"
   ]
  },
  {
   "cell_type": "markdown",
   "id": "6b49c066-ee8f-41ba-9114-d8b96e9283ce",
   "metadata": {},
   "source": [
    "Take a look at the parameters we'll need to create a grid for"
   ]
  },
  {
   "cell_type": "code",
   "execution_count": 11,
   "id": "52922dc0-90f4-4291-b035-c03f67892bd1",
   "metadata": {},
   "outputs": [
    {
     "data": {
      "text/plain": [
       "{'alpha': 1.0,\n",
       " 'class_weight': None,\n",
       " 'copy_X': True,\n",
       " 'fit_intercept': True,\n",
       " 'max_iter': None,\n",
       " 'normalize': False,\n",
       " 'random_state': RandomState(MT19937) at 0x7FB1C859C040,\n",
       " 'solver': 'saga',\n",
       " 'tol': 0.001}"
      ]
     },
     "execution_count": 11,
     "metadata": {},
     "output_type": "execute_result"
    }
   ],
   "source": [
    "clf.get_params(deep=False)"
   ]
  },
  {
   "cell_type": "markdown",
   "id": "d733222c-110c-4bf3-affe-c34256e01f21",
   "metadata": {},
   "source": [
    "Create parameter grid"
   ]
  },
  {
   "cell_type": "code",
   "execution_count": 12,
   "id": "5a790e13-86be-47bb-9b4f-8856ae7a5047",
   "metadata": {},
   "outputs": [],
   "source": [
    "param_grid = {'alpha':np.logspace(-1,1,num=15,base=10,dtype='float'),\n",
    "              'tol':np.logspace(-5,-2,num=20,base=10,dtype='float')}"
   ]
  },
  {
   "cell_type": "markdown",
   "id": "e3606901-16e8-44e1-9c65-05141d5ba6d6",
   "metadata": {},
   "source": [
    "Create successive halving grid search cross-validation estimator"
   ]
  },
  {
   "cell_type": "code",
   "execution_count": 13,
   "id": "8e3036f4-a9e0-41bf-bab5-84d564251b4c",
   "metadata": {},
   "outputs": [
    {
     "name": "stdout",
     "output_type": "stream",
     "text": [
      "RidgeClassifier(alpha=0.7196856730011519,\n",
      "                random_state=RandomState(MT19937) at 0x7FB1F96E3A40,\n",
      "                solver='saga', tol=0.000379269019073225)\n",
      "{'alpha': 0.7196856730011519, 'tol': 0.000379269019073225}\n"
     ]
    }
   ],
   "source": [
    "# Ignore convergence warning messages\n",
    "simplefilter(\"ignore\", category=ConvergenceWarning)\n",
    "\n",
    "# Initialize HalvingGridSearch with parameter grid, model,\n",
    "# and factor = 3 to select one third the candidates for subsequent iterations\n",
    "search = HalvingGridSearchCV(estimator=clf, \n",
    "                             param_grid=param_grid, \n",
    "                             factor=3,\n",
    "                             cv=cvg, \n",
    "                             random_state=rng)\n",
    "\n",
    "# Searches over parameter grid with successive halving of x and y train\n",
    "search.fit(x_trn, y_trn)\n",
    "\n",
    "# Identify the best model parameters to fit the model on later\n",
    "print(search.best_estimator_)\n",
    "print(search.best_params_)"
   ]
  },
  {
   "cell_type": "markdown",
   "id": "aceb917b",
   "metadata": {},
   "source": [
    "## Candidate Score Plot"
   ]
  },
  {
   "cell_type": "markdown",
   "id": "fe81cc2d-e946-4b88-8116-aa15d2d64d56",
   "metadata": {},
   "source": [
    "Plot and save candidate scores over successive halving iterations "
   ]
  },
  {
   "cell_type": "code",
   "execution_count": 19,
   "id": "4fb007dd-7d25-471a-9af4-4aedfdff65ee",
   "metadata": {},
   "outputs": [
    {
     "data": {
      "image/png": "[encoded data removed]",
      "text/plain": [
       "<Figure size 432x288 with 1 Axes>"
      ]
     },
     "metadata": {
      "needs_background": "light"
     },
     "output_type": "display_data"
    }
   ],
   "source": [
    "# Initialize variable containing results of HalvingGridSearch\n",
    "results = pd.DataFrame(search.cv_results_)\n",
    "# Convert parameters to str\n",
    "results[\"params_str\"] = results.params.apply(str)\n",
    "# Remove duplicate results\n",
    "results.drop_duplicates(subset=(\"params_str\", \"iter\"), inplace=True)\n",
    "# Get mean test scores\n",
    "mean_scores = results.pivot(\n",
    "    index=\"iter\", columns=\"params_str\", values=\"mean_test_score\"\n",
    ")\n",
    "\n",
    "# Create a plot of candidates' scores over multiple iterations\n",
    "ax = mean_scores.plot(legend=False, alpha=0.6)\n",
    "\n",
    "labels = [\n",
    "    f\"iter={i}\\nn_samples={search.n_resources_[i]}\\nn_candidates={search.n_candidates_[i]}\"\n",
    "    for i in range(search.n_iterations_)\n",
    "]\n",
    "\n",
    "ax.set_xticks(range(search.n_iterations_))\n",
    "ax.set_xticklabels(labels, rotation=45, multialignment=\"left\")\n",
    "ax.set_title(\"Scores of candidates over iterations\")\n",
    "ax.set_ylabel(\"mean test score\", fontsize=15)\n",
    "ax.set_xlabel(\"iterations\", fontsize=15)\n",
    "plt.tight_layout()\n",
    "plt.savefig(\"./figures/candidate_score_plot_RidgeClassifier.png\")"
   ]
  },
  {
   "cell_type": "markdown",
   "id": "90b0520d",
   "metadata": {},
   "source": [
    "## ROC Curve"
   ]
  },
  {
   "cell_type": "markdown",
   "id": "f520f0a8-535a-48ad-8039-6a294e899bdc",
   "metadata": {},
   "source": [
    "Plot and save ROC curve "
   ]
  },
  {
   "cell_type": "code",
   "execution_count": 11,
   "id": "1746d11f-4c3d-4ff4-8d1d-d02988ee54d2",
   "metadata": {},
   "outputs": [
    {
     "name": "stdout",
     "output_type": "stream",
     "text": [
      "training score:0.9507094846900672\n",
      "validation score:0.9582089552238806\n"
     ]
    },
    {
     "data": {
      "image/png": "[encoded data removed]",
      "text/plain": [
       "<Figure size 432x288 with 1 Axes>"
      ]
     },
     "metadata": {
      "needs_background": "light"
     },
     "output_type": "display_data"
    }
   ],
   "source": [
    "# Train the model on the datasets (train/val) imported for ROC \n",
    "clf_roc = RidgeClassifier(solver='saga', random_state=rng)\n",
    "# Specify the best parameters from the HalvingGridSearch to fit the model on\n",
    "clf_roc.set_params(**search.best_params_)\n",
    "clf_roc.fit(x_train_roc, y_train_roc)\n",
    "y_pred_roc = clf_roc.predict(x_val_roc)\n",
    "\n",
    "# Compute the false positive and true positive rate\n",
    "fpr, tpr, _ = roc_curve(y_val_roc, y_pred_roc, pos_label=1)\n",
    "\n",
    "# Compute AUROC\n",
    "roc_auc = auc(fpr, tpr)\t\n",
    "\n",
    "# Plot the ROC curve\n",
    "plt.figure()\n",
    "lw = 2\n",
    "plt.plot(fpr, tpr, color='darkorange',\n",
    "         lw=lw, label='AUROC for Ridge Classifier (area = %0.2f)' % roc_auc)\n",
    "plt.plot([0, 1], [0, 1], color='navy', lw=lw, linestyle='--')\n",
    "plt.xlim([0.0, 1.0])\n",
    "plt.ylim([0.0, 1.0])\n",
    "plt.xlabel('False Positive Rate')\n",
    "plt.ylabel('True Positive Rate')\n",
    "plt.legend(loc=\"lower right\")\n",
    "\n",
    "# Get the training and validation score\n",
    "print('training score:' + str(clf_roc.score(x_train_roc, y_train_roc)))\n",
    "print('validation score:' + str(clf_roc.score(x_val_roc,y_val_roc)))"
   ]
  },
  {
   "cell_type": "markdown",
   "id": "d45f0c95",
   "metadata": {},
   "source": [
    "## Fit Model and Predict"
   ]
  },
  {
   "cell_type": "markdown",
   "id": "f3169277-02d5-44c4-9846-fffba2beeee4",
   "metadata": {},
   "source": [
    "Set classifier parameters to optimal values identified by cross-validation and fit on entire training set, then output predictions on test set"
   ]
  },
  {
   "cell_type": "code",
   "execution_count": 16,
   "id": "28d1ca07-d1f0-44c1-8bdd-0f387a225a31",
   "metadata": {},
   "outputs": [
    {
     "name": "stdout",
     "output_type": "stream",
     "text": [
      "training score:0.9516129032258065\n"
     ]
    }
   ],
   "source": [
    "# Set parameters of model as the best parameters resulting from the search\n",
    "clf.set_params(**search.best_params_)\n",
    "clf.fit(x_trn, y_trn)\n",
    "\n",
    "# Create and save predictions\n",
    "y_pred = clf.predict(x_tst)\n",
    "pickle.dump(y_pred,open(\"./data/y_pred_RidgeReg.pkl\", \"wb\"))\n",
    "\n",
    "print('training score:' + str(clf.score(x_trn, y_trn)))"
   ]
  },
  {
   "cell_type": "markdown",
   "id": "138afdb4",
   "metadata": {},
   "source": [
    "## Importance Score Plot"
   ]
  },
  {
   "cell_type": "markdown",
   "id": "990dfd02-1c3a-4fae-8daf-72e76ab84469",
   "metadata": {},
   "source": [
    "Plot and save feature importance scores to determine top features"
   ]
  },
  {
   "cell_type": "code",
   "execution_count": 17,
   "id": "25661b5f-eef1-4e33-ab43-29ad79410dbb",
   "metadata": {},
   "outputs": [
    {
     "data": {
      "image/png": "[encoded data removed]",
      "text/plain": [
       "<Figure size 432x288 with 1 Axes>"
      ]
     },
     "metadata": {
      "needs_background": "light"
     },
     "output_type": "display_data"
    }
   ],
   "source": [
    "# Get model coefficients as an array\n",
    "coef = clf.coef_\n",
    "coef = coef[0,:]\n",
    "# Get model features\n",
    "features = x_trn.columns\n",
    "# Sort the coefficients by their magnitude\n",
    "arg_rank = np.argsort(-np.abs(coef))\n",
    "# Get the number of features\n",
    "used_features = len(features)\n",
    "\n",
    "# Plot coefficient chart\n",
    "plt.hlines( np.arange(used_features),0,coef, color='red')\n",
    "plt.plot(coef, np.arange(used_features), 'D')\n",
    "plt.plot([0, 0], [np.arange(used_features).min(), np.arange(used_features).max()], '--')\n",
    "plt.title(\"Ridge Classifier Importance Scores\")\n",
    "plt.ylabel(\"Access Behavior Anomaly Features\")\n",
    "plt.xlabel(\"Coefficients from Access Behavior Anomaly model\")\n",
    "plt.yticks(np.arange(used_features),features)\n",
    "plt.tight_layout()\n",
    "plt.savefig(\"./figures/importance_score_plot_RidgeClassifier.png\")"
   ]
  }
 ],
 "metadata": {
  "kernelspec": {
   "display_name": "Python 3",
   "language": "python",
   "name": "python3"
  },
  "language_info": {
   "codemirror_mode": {
    "name": "ipython",
    "version": 3
   },
   "file_extension": ".py",
   "mimetype": "text/x-python",
   "name": "python",
   "nbconvert_exporter": "python",
   "pygments_lexer": "ipython3",
   "version": "3.8.8"
  }
 },
 "nbformat": 4,
 "nbformat_minor": 5
}
