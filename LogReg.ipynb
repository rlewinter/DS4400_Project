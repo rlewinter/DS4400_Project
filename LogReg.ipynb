{
 "cells": [
  {
   "cell_type": "markdown",
   "id": "890459e3",
   "metadata": {},
   "source": [
    "# Logistic Regression\n",
    "\n",
    "## Import Libraries"
   ]
  },
  {
   "cell_type": "code",
   "execution_count": 18,
   "id": "58481df7",
   "metadata": {},
   "outputs": [],
   "source": [
    "import numpy as np\n",
    "import pandas as pd\n",
    "import pickle\n",
    "import matplotlib.pyplot as plt\n",
    "from sklearn.model_selection import StratifiedKFold\n",
    "from sklearn.linear_model import SGDClassifier\n",
    "from sklearn.linear_model import LogisticRegression\n",
    "from sklearn.experimental import enable_halving_search_cv\n",
    "from sklearn.model_selection import HalvingGridSearchCV\n",
    "from sklearn.model_selection import ParameterGrid\n",
    "from sklearn.metrics import RocCurveDisplay\n",
    "from sklearn.model_selection import learning_curve\n",
    "from sklearn import metrics\n",
    "from sklearn.metrics import roc_auc_score\n",
    "from sklearn.metrics import roc_curve, auc\n",
    "from warnings import simplefilter\n",
    "from sklearn.exceptions import ConvergenceWarning"
   ]
  },
  {
   "cell_type": "markdown",
   "id": "61b2a697-1e8d-4901-a0dd-09e0316d389f",
   "metadata": {},
   "source": [
    "## Load Data\n",
    "\n",
    "Preprocessed train (x, y) and test (x) datasets for model training and testing as well as separate x/y train/val datasets for ROC computation."
   ]
  },
  {
   "cell_type": "code",
   "execution_count": 19,
   "id": "1888aa47-7a95-4a91-93d9-fe4cae3e9e6f",
   "metadata": {},
   "outputs": [],
   "source": [
    "x_trn = pd.read_pickle(\"./data/x_train.pkl\")\n",
    "y_trn = pd.read_pickle(\"./data/y_train.pkl\")\n",
    "x_tst = pd.read_pickle(\"./data/x_test.pkl\")\n",
    "x_train_roc = pd.read_pickle(\"./data/x_train_roc.pkl\")\n",
    "y_train_roc = pd.read_pickle(\"./data/y_train_roc.pkl\")\n",
    "x_val_roc = pd.read_pickle(\"./data/x_val_roc.pkl\")\n",
    "y_val_roc = pd.read_pickle(\"./data/y_val_roc.pkl\")"
   ]
  },
  {
   "cell_type": "markdown",
   "id": "5ebe8ac5",
   "metadata": {},
   "source": [
    "## Initialize Model"
   ]
  },
  {
   "cell_type": "markdown",
   "id": "4a34de9b-a612-4d91-8095-cacb27bc9cbb",
   "metadata": {},
   "source": [
    "Set random seed"
   ]
  },
  {
   "cell_type": "code",
   "execution_count": 3,
   "id": "28b4e0d8-6e52-440c-891c-5ee17b855135",
   "metadata": {},
   "outputs": [],
   "source": [
    "rng = np.random.RandomState(0)"
   ]
  },
  {
   "cell_type": "markdown",
   "id": "ebf07491-1837-484b-9eee-7a206d0d00f0",
   "metadata": {},
   "source": [
    "Create cross-validation generator"
   ]
  },
  {
   "cell_type": "code",
   "execution_count": 20,
   "id": "c33064d6-81e2-4676-af03-17c1bf45a221",
   "metadata": {},
   "outputs": [],
   "source": [
    "# Dataset split into 5 parts (80% | 20% Train/Val)\n",
    "cvg = StratifiedKFold(n_splits=5, shuffle=False)"
   ]
  },
  {
   "cell_type": "markdown",
   "id": "5d4c790a-0b9b-4ad9-940a-bc834c2c4a1a",
   "metadata": {},
   "source": [
    "Create an instance of the classifier we want to use"
   ]
  },
  {
   "cell_type": "code",
   "execution_count": 5,
   "id": "bca8184a-587e-4718-81fa-929dca92aa4b",
   "metadata": {},
   "outputs": [],
   "source": [
    "# Specify model penalty and solver: l2 used in standard SVC, liblinear ensures data is shuffled\n",
    "clf = LogisticRegression(penalty='l2', random_state=rng, solver='liblinear')"
   ]
  },
  {
   "cell_type": "markdown",
   "id": "557e7b12",
   "metadata": {},
   "source": [
    "## Hyperparameter Tuning"
   ]
  },
  {
   "cell_type": "markdown",
   "id": "34834aab-46aa-4a70-814b-0149c3965fc0",
   "metadata": {},
   "source": [
    "Take a look at the parameters we'll need to create a grid for"
   ]
  },
  {
   "cell_type": "code",
   "execution_count": 6,
   "id": "a14cbfbb-a024-4755-a017-0ecb11967e29",
   "metadata": {},
   "outputs": [
    {
     "data": {
      "text/plain": [
       "{'C': 1.0,\n",
       " 'class_weight': None,\n",
       " 'dual': False,\n",
       " 'fit_intercept': True,\n",
       " 'intercept_scaling': 1,\n",
       " 'l1_ratio': None,\n",
       " 'max_iter': 100,\n",
       " 'multi_class': 'auto',\n",
       " 'n_jobs': None,\n",
       " 'penalty': 'l2',\n",
       " 'random_state': RandomState(MT19937) at 0x7FE168BACC40,\n",
       " 'solver': 'liblinear',\n",
       " 'tol': 0.0001,\n",
       " 'verbose': 0,\n",
       " 'warm_start': False}"
      ]
     },
     "execution_count": 6,
     "metadata": {},
     "output_type": "execute_result"
    }
   ],
   "source": [
    "clf.get_params(deep=False)"
   ]
  },
  {
   "cell_type": "markdown",
   "id": "a80c49e1-970a-433d-aa52-e3738f924376",
   "metadata": {},
   "source": [
    "Create parameter grid"
   ]
  },
  {
   "cell_type": "code",
   "execution_count": 7,
   "id": "44c3c932-5253-4252-ac4e-466272514035",
   "metadata": {},
   "outputs": [],
   "source": [
    "param_grid = {'C':np.logspace(-1,1,num=15,base=10,dtype='float'),\n",
    "              'intercept_scaling':np.logspace(-1,1,num=15,base=10,dtype='float'),\n",
    "              'tol':np.logspace(-5,-3,num=20,base=10,dtype='float')}"
   ]
  },
  {
   "cell_type": "markdown",
   "id": "bb31aeee-326d-4789-a520-11b3feb329c8",
   "metadata": {},
   "source": [
    "Create successive halving grid search cross-validation estimator"
   ]
  },
  {
   "cell_type": "code",
   "execution_count": 21,
   "id": "066bdd4b-0b0b-4d3e-a770-0d5dbfc4d7e1",
   "metadata": {},
   "outputs": [
    {
     "name": "stdout",
     "output_type": "stream",
     "text": [
      "LogisticRegression(C=7.196856730011517, intercept_scaling=1.9306977288832496,\n",
      "                   random_state=RandomState(MT19937) at 0x7FE159CD2E40,\n",
      "                   solver='liblinear', tol=1.2742749857031348e-05)\n",
      "{'C': 7.196856730011517, 'intercept_scaling': 1.9306977288832496, 'tol': 1.2742749857031348e-05}\n"
     ]
    }
   ],
   "source": [
    "# Ignore convergence warning messages\n",
    "simplefilter(\"ignore\", category=ConvergenceWarning)\n",
    "\n",
    "# Initialize HalvingGridSearch with parameter grid, model,\n",
    "# and factor = 2 to select half the candidates for subsequent iterations\n",
    "search = HalvingGridSearchCV(estimator=clf, \n",
    "                             param_grid=param_grid, \n",
    "                             factor=2,\n",
    "                             cv=cvg, \n",
    "                             random_state=rng)\n",
    "\n",
    "# Searches over parameter grid with successive halving of x and y train\n",
    "search.fit(x_trn, y_trn)\n",
    "\n",
    "# Identify the best model parameters to fit the model on later\n",
    "print(search.best_estimator_)\n",
    "print(search.best_params_)"
   ]
  },
  {
   "cell_type": "markdown",
   "id": "5aa345ef",
   "metadata": {},
   "source": [
    "## Candidate Score Plot"
   ]
  },
  {
   "cell_type": "markdown",
   "id": "1556efe6-c245-43d7-ba7d-3c510eb28269",
   "metadata": {},
   "source": [
    "Plot and save candidate scores over successive halving iterations"
   ]
  },
  {
   "cell_type": "code",
   "execution_count": 28,
   "id": "8013c7fe-33db-4a90-aa7c-efcc99aa7a02",
   "metadata": {},
   "outputs": [
    {
     "data": {
      "image/png": "[encoded data removed]",
      "text/plain": [
       "<Figure size 432x288 with 1 Axes>"
      ]
     },
     "metadata": {
      "needs_background": "light"
     },
     "output_type": "display_data"
    }
   ],
   "source": [
    "# Initialize variable containing results of HalvingGridSearch\n",
    "results = pd.DataFrame(search.cv_results_)\n",
    "# Convert parameters to str\n",
    "results[\"params_str\"] = results.params.apply(str)\n",
    "# Remove duplicate results\n",
    "results.drop_duplicates(subset=(\"params_str\", \"iter\"), inplace=True)\n",
    "# Get mean test scores\n",
    "mean_scores = results.pivot(\n",
    "    index=\"iter\", columns=\"params_str\", values=\"mean_test_score\"\n",
    ")\n",
    "\n",
    "# Create a plot of candidates' scores over multiple iterations\n",
    "ax = mean_scores.plot(legend=False, alpha=0.6)\n",
    "\n",
    "labels = [\n",
    "    f\"iter={i}\\nn_samples={search.n_resources_[i]}\\nn_candidates={search.n_candidates_[i]}\"\n",
    "    for i in range(search.n_iterations_)\n",
    "]\n",
    "\n",
    "ax.set_xticks(range(search.n_iterations_))\n",
    "ax.set_xticklabels(labels, rotation=45, multialignment=\"left\")\n",
    "ax.set_title(\"Scores of candidates over iterations\")\n",
    "ax.set_ylabel(\"mean test score\", fontsize=15)\n",
    "ax.set_xlabel(\"iterations\", fontsize=15)\n",
    "plt.tight_layout()\n",
    "plt.savefig(\"./figures/candidate_score_plot_LogReg.png\")"
   ]
  },
  {
   "cell_type": "markdown",
   "id": "00bb18ff",
   "metadata": {},
   "source": [
    "## ROC Curve"
   ]
  },
  {
   "cell_type": "markdown",
   "id": "68e7d55a-2525-4457-b082-2f4c6bef5e69",
   "metadata": {},
   "source": [
    "Plot and save ROC curve "
   ]
  },
  {
   "cell_type": "code",
   "execution_count": 27,
   "id": "24e0cd20-b579-4489-9953-c30f278b4111",
   "metadata": {},
   "outputs": [
    {
     "name": "stdout",
     "output_type": "stream",
     "text": [
      "training score:1.0\n",
      "validation score:1.0\n"
     ]
    },
    {
     "data": {
      "image/png": "[encoded data removed]",
      "text/plain": [
       "<Figure size 432x288 with 1 Axes>"
      ]
     },
     "metadata": {
      "needs_background": "light"
     },
     "output_type": "display_data"
    }
   ],
   "source": [
    "# Train the model on the datasets (train/val) imported for ROC \n",
    "clf_roc = LogisticRegression(penalty='l2', random_state=rng, solver='liblinear')\n",
    "# Specify the best parameters from the HalvingGridSearch to fit the model on\n",
    "clf_roc.set_params(**search.best_params_)\n",
    "clf_roc.fit(x_train_roc, y_train_roc)\n",
    "y_pred_roc = clf_roc.predict(x_val_roc)\n",
    "\n",
    "# Compute the false positive and true positive rate\n",
    "fpr, tpr, _ = roc_curve(y_val_roc, y_pred_roc, pos_label=1)\n",
    "\n",
    "# Compute AUROC\n",
    "roc_auc = auc(fpr, tpr)\t\n",
    "\n",
    "# Plot the ROC curve\n",
    "plt.figure()\n",
    "lw = 2\n",
    "plt.plot(fpr, tpr, color='darkorange',\n",
    "         lw=lw, label='AUROC for Logistic Regression (area = %0.2f)' % roc_auc)\n",
    "plt.plot([0, 1], [0, 1], color='navy', lw=lw, linestyle='--')\n",
    "plt.xlim([0.0, 1.0])\n",
    "plt.ylim([0.0, 1.0])\n",
    "plt.xlabel('False Positive Rate')\n",
    "plt.ylabel('True Positive Rate')\n",
    "plt.legend(loc=\"lower right\")\n",
    "plt.savefig(\"./figures/roc_curve_LogReg.png\")\n",
    "\n",
    "# Get the training and validation score\n",
    "print('training score:' + str(clf_roc.score(x_train_roc, y_train_roc)))\n",
    "print('validation score:' + str(clf_roc.score(x_val_roc,y_val_roc)))"
   ]
  },
  {
   "cell_type": "markdown",
   "id": "f958c3ec",
   "metadata": {},
   "source": [
    "## Fit Model and Predict"
   ]
  },
  {
   "cell_type": "markdown",
   "id": "e4fb2472-6b3c-4633-9074-7f1bf02606aa",
   "metadata": {},
   "source": [
    "Set classifier parameters to optimal values identified by cross-validation and fit on entire training set, then output predictions on test set"
   ]
  },
  {
   "cell_type": "code",
   "execution_count": 25,
   "id": "b96c5152-498d-48d2-973e-46a9be411244",
   "metadata": {},
   "outputs": [
    {
     "name": "stdout",
     "output_type": "stream",
     "text": [
      "training score:1.0\n"
     ]
    }
   ],
   "source": [
    "# Set parameters of model as the best parameters resulting from the search\n",
    "clf.set_params(**search.best_params_)\n",
    "clf.fit(x_trn, y_trn)\n",
    "\n",
    "# Create and save predictions\n",
    "y_pred = clf.predict(x_tst)\n",
    "pickle.dump(y_pred,open(\"./data/y_pred_LogReg.pkl\", \"wb\"))\n",
    "\n",
    "print('training score:' + str(clf.score(x_trn, y_trn)))"
   ]
  },
  {
   "cell_type": "markdown",
   "id": "564ade0e",
   "metadata": {},
   "source": [
    "## Importance Score Plot"
   ]
  },
  {
   "cell_type": "markdown",
   "id": "0f03e474",
   "metadata": {},
   "source": [
    "Plot and save feature importance scores to determine top features"
   ]
  },
  {
   "cell_type": "code",
   "execution_count": 26,
   "id": "bac7d567",
   "metadata": {},
   "outputs": [
    {
     "data": {
      "image/png": "[encoded data removed]",
      "text/plain": [
       "<Figure size 432x288 with 1 Axes>"
      ]
     },
     "metadata": {
      "needs_background": "light"
     },
     "output_type": "display_data"
    }
   ],
   "source": [
    "# Get model coefficients as an array\n",
    "coef = clf.coef_\n",
    "coef = coef[0,:]\n",
    "# Get model features\n",
    "features = x_trn.columns\n",
    "# Sort the coefficients by their magnitude\n",
    "arg_rank = np.argsort(-np.abs(coef))\n",
    "# Get the number of features\n",
    "used_features = len(features)\n",
    "\n",
    "# Plot coefficient chart\n",
    "plt.hlines( np.arange(used_features),0,coef, color='red')\n",
    "plt.plot(coef, np.arange(used_features), 'D')\n",
    "plt.plot([0, 0], [np.arange(used_features).min(), np.arange(used_features).max()], '--')\n",
    "plt.title(\"Logistic Regression Importance Scores\")\n",
    "plt.ylabel(\"Access Behavior Anomaly Features\")\n",
    "plt.xlabel(\"Coefficients from Access Behavior Anomaly model\")\n",
    "plt.yticks(np.arange(used_features),features)\n",
    "plt.tight_layout()\n",
    "plt.savefig(\"./figures/importance_score_plot_LogReg.png\")"
   ]
  }
 ],
 "metadata": {
  "kernelspec": {
   "display_name": "Python 3",
   "language": "python",
   "name": "python3"
  },
  "language_info": {
   "codemirror_mode": {
    "name": "ipython",
    "version": 3
   },
   "file_extension": ".py",
   "mimetype": "text/x-python",
   "name": "python",
   "nbconvert_exporter": "python",
   "pygments_lexer": "ipython3",
   "version": "3.8.8"
  }
 },
 "nbformat": 4,
 "nbformat_minor": 5
}
