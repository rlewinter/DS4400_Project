{
 "cells": [
  {
   "cell_type": "code",
   "execution_count": null,
   "id": "651b8c06-6d11-4a29-aa35-f639e8e513de",
   "metadata": {},
   "outputs": [],
   "source": [
    "import numpy as np\n",
    "from sklearn.model_selection import StratifiedKFold\n",
    "from sklearn.linear_model import LogisticRegression\n",
    "from sklearn.experimental import enable_halving_search_cv\n",
    "from sklearn.model_selection import HalvingGridSearchCV\n",
    "from sklearn.model_selection import ParameterGrid\n",
    "from sklearn.metrics import RocCurveDisplay\n",
    "from sklearn.model_selection import learning_curve"
   ]
  },
  {
   "cell_type": "markdown",
   "id": "61b2a697-1e8d-4901-a0dd-09e0316d389f",
   "metadata": {},
   "source": [
    "# Logistic Regression\n",
    "\n",
    "Load data"
   ]
  },
  {
   "cell_type": "code",
   "execution_count": null,
   "id": "1888aa47-7a95-4a91-93d9-fe4cae3e9e6f",
   "metadata": {},
   "outputs": [],
   "source": [
    "x_trn = None #TODO\n",
    "y_trn = None\n",
    "x_tst = None"
   ]
  },
  {
   "cell_type": "markdown",
   "id": "4a34de9b-a612-4d91-8095-cacb27bc9cbb",
   "metadata": {},
   "source": [
    "Set random seed"
   ]
  },
  {
   "cell_type": "code",
   "execution_count": null,
   "id": "28b4e0d8-6e52-440c-891c-5ee17b855135",
   "metadata": {},
   "outputs": [],
   "source": [
    "rng = np.random.RandomState(0)"
   ]
  },
  {
   "cell_type": "markdown",
   "id": "ebf07491-1837-484b-9eee-7a206d0d00f0",
   "metadata": {},
   "source": [
    "Create cross-validation generator"
   ]
  },
  {
   "cell_type": "code",
   "execution_count": null,
   "id": "c33064d6-81e2-4676-af03-17c1bf45a221",
   "metadata": {},
   "outputs": [],
   "source": [
    "cvg = StratifiedKFold(n_splits=5, shuffle=False, random_state=rng)"
   ]
  },
  {
   "cell_type": "markdown",
   "id": "5d4c790a-0b9b-4ad9-940a-bc834c2c4a1a",
   "metadata": {},
   "source": [
    "Create an instance of the classifier we want to use"
   ]
  },
  {
   "cell_type": "code",
   "execution_count": null,
   "id": "bca8184a-587e-4718-81fa-929dca92aa4b",
   "metadata": {},
   "outputs": [],
   "source": [
    "clf = LogisticRegression(penalty='l2', random_state=rng, solver='liblinear')"
   ]
  },
  {
   "cell_type": "markdown",
   "id": "34834aab-46aa-4a70-814b-0149c3965fc0",
   "metadata": {},
   "source": [
    "Take a look at the parameters we'll need to create a grid for"
   ]
  },
  {
   "cell_type": "code",
   "execution_count": null,
   "id": "a14cbfbb-a024-4755-a017-0ecb11967e29",
   "metadata": {},
   "outputs": [],
   "source": [
    "clf.get_params(deep=False)"
   ]
  },
  {
   "cell_type": "markdown",
   "id": "a80c49e1-970a-433d-aa52-e3738f924376",
   "metadata": {},
   "source": [
    "Create parameter grid"
   ]
  },
  {
   "cell_type": "code",
   "execution_count": null,
   "id": "44c3c932-5253-4252-ac4e-466272514035",
   "metadata": {},
   "outputs": [],
   "source": [
    "param_grid = {}#TODO\n",
    "param_grid = ParameterGrid(param_grid)"
   ]
  },
  {
   "cell_type": "markdown",
   "id": "bb31aeee-326d-4789-a520-11b3feb329c8",
   "metadata": {},
   "source": [
    "Create successive halving grid search cross-validation estimator"
   ]
  },
  {
   "cell_type": "code",
   "execution_count": null,
   "id": "066bdd4b-0b0b-4d3e-a770-0d5dbfc4d7e1",
   "metadata": {},
   "outputs": [],
   "source": [
    "search = HalvingGridSearchCV(estimator=clf, \n",
    "                             param_grid=param_grid, \n",
    "                             factor=3, \n",
    "                             cv=cvg, \n",
    "                             random_state=rng).fit(x_trn, y_trn)"
   ]
  },
  {
   "cell_type": "markdown",
   "id": "e8624be7-22e8-4904-942b-5e60a91d17c0",
   "metadata": {},
   "source": [
    "Create and save successive halving heatmap https://scikit-learn.org/stable/auto_examples/model_selection/plot_successive_halving_heatmap.html#"
   ]
  },
  {
   "cell_type": "code",
   "execution_count": null,
   "id": "6e1ea471-175a-4d78-8fbc-5e83bc510568",
   "metadata": {},
   "outputs": [],
   "source": [
    "#TODO"
   ]
  },
  {
   "cell_type": "markdown",
   "id": "1556efe6-c245-43d7-ba7d-3c510eb28269",
   "metadata": {},
   "source": [
    "Plot and save candidate scores over successive halving iterations https://scikit-learn.org/stable/auto_examples/model_selection/plot_successive_halving_iterations.html#"
   ]
  },
  {
   "cell_type": "code",
   "execution_count": null,
   "id": "8013c7fe-33db-4a90-aa7c-efcc99aa7a02",
   "metadata": {},
   "outputs": [],
   "source": [
    "#TODO"
   ]
  },
  {
   "cell_type": "markdown",
   "id": "d03d2c97-0022-48ac-8821-312e0df87911",
   "metadata": {},
   "source": [
    "Plot and save feature importance scores to determine top features https://scikit-learn.org/stable/auto_examples/ensemble/plot_forest_importances.html"
   ]
  },
  {
   "cell_type": "code",
   "execution_count": null,
   "id": "1e418e24-8058-43ac-8a11-fd0a3d61d2ac",
   "metadata": {},
   "outputs": [],
   "source": [
    "#TODO"
   ]
  },
  {
   "cell_type": "markdown",
   "id": "68e7d55a-2525-4457-b082-2f4c6bef5e69",
   "metadata": {},
   "source": [
    "Plot and save ROC curve https://scikit-learn.org/stable/modules/generated/sklearn.metrics.RocCurveDisplay.html#sklearn.metrics.RocCurveDisplay.from_predictions"
   ]
  },
  {
   "cell_type": "code",
   "execution_count": null,
   "id": "24e0cd20-b579-4489-9953-c30f278b4111",
   "metadata": {},
   "outputs": [],
   "source": [
    "#TODO\n",
    "#use RocCurveDisplay.from_predictions(y_true, y_pred)"
   ]
  },
  {
   "cell_type": "markdown",
   "id": "e4fb2472-6b3c-4633-9074-7f1bf02606aa",
   "metadata": {},
   "source": [
    "Set classifier parameters to optimal values identified by cross-validation and fit on entire training set, then output predictions on test set"
   ]
  },
  {
   "cell_type": "code",
   "execution_count": null,
   "id": "b96c5152-498d-48d2-973e-46a9be411244",
   "metadata": {},
   "outputs": [],
   "source": [
    "clf.set_params(search.best_params_) #check value, might need to join with params from block 4\n",
    "clf.fit(x_trn, y_trn)\n",
    "#we need to decide what to do with these predictions, since it's an unlabeled test set."
   ]
  }
 ],
 "metadata": {
  "kernelspec": {
   "display_name": "Python 3 (ipykernel)",
   "language": "python",
   "name": "python3"
  },
  "language_info": {
   "codemirror_mode": {
    "name": "ipython",
    "version": 3
   },
   "file_extension": ".py",
   "mimetype": "text/x-python",
   "name": "python",
   "nbconvert_exporter": "python",
   "pygments_lexer": "ipython3",
   "version": "3.8.8"
  }
 },
 "nbformat": 4,
 "nbformat_minor": 5
}
