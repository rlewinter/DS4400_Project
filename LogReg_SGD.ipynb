{
 "cells": [
  {
   "cell_type": "markdown",
   "id": "4adbce91",
   "metadata": {},
   "source": [
    "# Logistic Regression with SGD\n",
    "\n",
    "## Import Libraries"
   ]
  },
  {
   "cell_type": "code",
   "execution_count": 30,
   "id": "b1a8a5ac",
   "metadata": {},
   "outputs": [],
   "source": [
    "import numpy as np\n",
    "import pandas as pd\n",
    "import pickle\n",
    "import matplotlib.pyplot as plt\n",
    "import scipy.stats\n",
    "from scipy import stats\n",
    "from sklearn.model_selection import StratifiedKFold\n",
    "from sklearn.linear_model import SGDClassifier\n",
    "from sklearn.experimental import enable_halving_search_cv\n",
    "from sklearn.model_selection import HalvingGridSearchCV\n",
    "from sklearn.model_selection import ParameterGrid\n",
    "from sklearn.metrics import RocCurveDisplay\n",
    "from sklearn.model_selection import learning_curve\n",
    "from sklearn import metrics\n",
    "from sklearn.metrics import roc_auc_score\n",
    "from sklearn.metrics import roc_curve, auc\n",
    "from warnings import simplefilter\n",
    "from sklearn.exceptions import ConvergenceWarning"
   ]
  },
  {
   "cell_type": "markdown",
   "id": "dae4ff7a-a1f2-4f81-9ee5-b15d7d367790",
   "metadata": {},
   "source": [
    "## Load Data\n",
    "Preprocessed train (x, y) and test (x) datasets for model training and testing as well as separate x/y train/val datasets for ROC computation."
   ]
  },
  {
   "cell_type": "code",
   "execution_count": 16,
   "id": "c978fcbf-6a2d-48a4-88f6-71678361fec1",
   "metadata": {},
   "outputs": [],
   "source": [
    "x_trn = pd.read_pickle(\"./data/x_train.pkl\")\n",
    "y_trn = pd.read_pickle(\"./data/y_train.pkl\")\n",
    "x_tst = pd.read_pickle(\"./data/x_test.pkl\")\n",
    "x_train_roc = pd.read_pickle(\"./data/x_train_roc.pkl\")\n",
    "y_train_roc = pd.read_pickle(\"./data/y_train_roc.pkl\")\n",
    "x_val_roc = pd.read_pickle(\"./data/x_val_roc.pkl\")\n",
    "y_val_roc = pd.read_pickle(\"./data/y_val_roc.pkl\")"
   ]
  },
  {
   "cell_type": "markdown",
   "id": "ad1b00ab",
   "metadata": {},
   "source": [
    "## Initialize Model"
   ]
  },
  {
   "cell_type": "markdown",
   "id": "44da2a0a-a9fd-469a-904d-98ddcda4db7c",
   "metadata": {},
   "source": [
    "Set random seed"
   ]
  },
  {
   "cell_type": "code",
   "execution_count": 31,
   "id": "c4b29d62-df8b-4b85-97b0-a85abd9d8e05",
   "metadata": {},
   "outputs": [],
   "source": [
    "rng = np.random.RandomState(0)"
   ]
  },
  {
   "cell_type": "markdown",
   "id": "e4a3ddd5-7468-4566-8c7f-0dc2168e328a",
   "metadata": {},
   "source": [
    "Create cross-validation generator"
   ]
  },
  {
   "cell_type": "code",
   "execution_count": 33,
   "id": "5627c095-9b46-410c-a96e-87352cd85cbf",
   "metadata": {},
   "outputs": [],
   "source": [
    "# Dataset split into 5 parts (80% | 20% Train/Val)\n",
    "cvg = StratifiedKFold(n_splits=5, shuffle=False)"
   ]
  },
  {
   "cell_type": "markdown",
   "id": "3bccc7c2-5821-40f2-9798-9177d30a585d",
   "metadata": {},
   "source": [
    "Create an instance of the classifier we want to use"
   ]
  },
  {
   "cell_type": "code",
   "execution_count": 35,
   "id": "266a0869-bb4e-4b95-8a98-747b8103ed00",
   "metadata": {},
   "outputs": [],
   "source": [
    "# Specify model penalty (l2) and loss (log for Logistic Regression)\n",
    "clf = SGDClassifier(loss='log', penalty='l2', random_state=rng)"
   ]
  },
  {
   "cell_type": "markdown",
   "id": "44064757",
   "metadata": {},
   "source": [
    "## Hyperparameter Tuning"
   ]
  },
  {
   "cell_type": "markdown",
   "id": "7fab7a9e-55e3-4465-8f87-828e97b559ae",
   "metadata": {},
   "source": [
    "Take a look at the parameters we'll need to create a grid for"
   ]
  },
  {
   "cell_type": "code",
   "execution_count": 36,
   "id": "6eb1015f-eb62-4fd8-b6bb-3303c217c7c5",
   "metadata": {},
   "outputs": [
    {
     "data": {
      "text/plain": [
       "{'alpha': 0.0001,\n",
       " 'average': False,\n",
       " 'class_weight': None,\n",
       " 'early_stopping': False,\n",
       " 'epsilon': 0.1,\n",
       " 'eta0': 0.0,\n",
       " 'fit_intercept': True,\n",
       " 'l1_ratio': 0.15,\n",
       " 'learning_rate': 'optimal',\n",
       " 'loss': 'log',\n",
       " 'max_iter': 1000,\n",
       " 'n_iter_no_change': 5,\n",
       " 'n_jobs': None,\n",
       " 'penalty': 'l2',\n",
       " 'power_t': 0.5,\n",
       " 'random_state': RandomState(MT19937) at 0x7F89404EAE40,\n",
       " 'shuffle': True,\n",
       " 'tol': 0.001,\n",
       " 'validation_fraction': 0.1,\n",
       " 'verbose': 0,\n",
       " 'warm_start': False}"
      ]
     },
     "execution_count": 36,
     "metadata": {},
     "output_type": "execute_result"
    }
   ],
   "source": [
    "clf.get_params(deep=False)"
   ]
  },
  {
   "cell_type": "markdown",
   "id": "d636092f-b562-45e6-8e90-575c69696376",
   "metadata": {},
   "source": [
    "Create parameter grid"
   ]
  },
  {
   "cell_type": "code",
   "execution_count": 21,
   "id": "71e1f808-343e-4cfb-9323-48572f790a37",
   "metadata": {},
   "outputs": [],
   "source": [
    "param_grid = {'alpha':np.logspace(-5,-3,num=20,base=10,dtype='float'),\n",
    "              'tol':np.logspace(-5,-3,num=20,base=10,dtype='float')}"
   ]
  },
  {
   "cell_type": "markdown",
   "id": "7beb7b0d-7410-4b29-a1da-b4cc0fc49120",
   "metadata": {},
   "source": [
    "Create successive halving grid search cross-validation estimator"
   ]
  },
  {
   "cell_type": "code",
   "execution_count": 37,
   "id": "78f81b44-d32a-4656-a552-6b58aa51f514",
   "metadata": {},
   "outputs": [
    {
     "name": "stdout",
     "output_type": "stream",
     "text": [
      "SGDClassifier(alpha=5.4555947811685143e-05, loss='log',\n",
      "              random_state=RandomState(MT19937) at 0x7F8971086140,\n",
      "              tol=4.281332398719396e-05)\n",
      "{'alpha': 5.4555947811685143e-05, 'tol': 4.281332398719396e-05}\n"
     ]
    }
   ],
   "source": [
    "# Ignore convergence warning messages\n",
    "simplefilter(\"ignore\", category=ConvergenceWarning)\n",
    "\n",
    "# Initialize HalvingGridSearch with parameter grid, model,\n",
    "# and factor = 2 to select half the candidates for subsequent iterations\n",
    "search = HalvingGridSearchCV(estimator=clf, \n",
    "                             param_grid=param_grid, \n",
    "                             factor=2,\n",
    "                             cv=cvg, \n",
    "                             random_state=rng)\n",
    "\n",
    "# Searches over parameter grid with successive halving of x and y train\n",
    "search.fit(x_trn, y_trn)\n",
    "\n",
    "# Identify the best model parameters to fit the model on later\n",
    "print(search.best_estimator_)\n",
    "print(search.best_params_)"
   ]
  },
  {
   "cell_type": "markdown",
   "id": "19232c36",
   "metadata": {},
   "source": [
    "## Candidate Score Plot"
   ]
  },
  {
   "cell_type": "markdown",
   "id": "ae8719da-9e9d-4125-8f93-f2be64f1c76f",
   "metadata": {},
   "source": [
    "Plot and save candidate scores over successive halving iterations "
   ]
  },
  {
   "cell_type": "code",
   "execution_count": 45,
   "id": "28ee7a5e-bede-40d5-a9bd-b30649a45b5b",
   "metadata": {},
   "outputs": [
    {
     "data": {
      "image/png": "[encoded data removed]",
      "text/plain": [
       "<Figure size 432x288 with 1 Axes>"
      ]
     },
     "metadata": {
      "needs_background": "light"
     },
     "output_type": "display_data"
    }
   ],
   "source": [
    "# Initialize variable containing results of HalvingGridSearch\n",
    "results = pd.DataFrame(search.cv_results_)\n",
    "# Convert parameters to str\n",
    "results[\"params_str\"] = results.params.apply(str)\n",
    "# Remove duplicate results\n",
    "results.drop_duplicates(subset=(\"params_str\", \"iter\"), inplace=True)\n",
    "# Get mean test scores\n",
    "mean_scores = results.pivot(\n",
    "    index=\"iter\", columns=\"params_str\", values=\"mean_test_score\"\n",
    ")\n",
    "\n",
    "# Create a plot of candidates' scores over multiple iterations\n",
    "ax = mean_scores.plot(legend=False, alpha=0.6)\n",
    "\n",
    "labels = [\n",
    "    f\"iter={i}\\nn_samples={search.n_resources_[i]}\\nn_candidates={search.n_candidates_[i]}\"\n",
    "    for i in range(search.n_iterations_)\n",
    "]\n",
    "\n",
    "ax.set_xticks(range(search.n_iterations_))\n",
    "ax.set_xticklabels(labels, rotation=45, multialignment=\"left\")\n",
    "ax.set_title(\"Scores of candidates over iterations\")\n",
    "ax.set_ylabel(\"mean test score\", fontsize=15)\n",
    "ax.set_xlabel(\"iterations\", fontsize=15)\n",
    "plt.tight_layout()\n",
    "plt.savefig(\"./figures/candidate_score_plot_LogReg_SGD.png\")"
   ]
  },
  {
   "cell_type": "markdown",
   "id": "b926a74e",
   "metadata": {},
   "source": [
    "## ROC Curve"
   ]
  },
  {
   "cell_type": "markdown",
   "id": "139f3c1c-43d9-4fba-b08b-d859a36e77de",
   "metadata": {},
   "source": [
    "Plot and save ROC curve "
   ]
  },
  {
   "cell_type": "code",
   "execution_count": 40,
   "id": "797372e9-1a59-4d82-9bcc-2840872b41d9",
   "metadata": {},
   "outputs": [
    {
     "name": "stdout",
     "output_type": "stream",
     "text": [
      "training score:1.0\n",
      "validation score:1.0\n"
     ]
    },
    {
     "data": {
      "image/png": "[encoded data removed]",
      "text/plain": [
       "<Figure size 432x288 with 1 Axes>"
      ]
     },
     "metadata": {
      "needs_background": "light"
     },
     "output_type": "display_data"
    }
   ],
   "source": [
    "# Train the model on the datasets (train/val) imported for ROC \n",
    "clf_roc = SGDClassifier(loss='hinge', penalty='l2', random_state=rng)\n",
    "# Specify the best parameters from the HalvingGridSearch to fit the model on\n",
    "clf_roc.set_params(**search.best_params_)\n",
    "clf_roc.fit(x_train_roc, y_train_roc)\n",
    "y_pred_roc = clf_roc.predict(x_val_roc)\n",
    "\n",
    "# Compute the false positive and true positive rate\n",
    "fpr, tpr, _ = roc_curve(y_val_roc, y_pred_roc, pos_label=1)\n",
    "\n",
    "# Compute AUROC\n",
    "roc_auc = auc(fpr, tpr)\t\n",
    "\n",
    "# Plot the ROC curve\n",
    "plt.figure()\n",
    "lw = 2\n",
    "plt.plot(fpr, tpr, color='darkorange',\n",
    "         lw=lw, label='AUROC for Logistic Regression (SGD) (area = %0.2f)' % roc_auc)\n",
    "plt.plot([0, 1], [0, 1], color='navy', lw=lw, linestyle='--')\n",
    "plt.xlim([0.0, 1.0])\n",
    "plt.ylim([0.0, 1.0])\n",
    "plt.xlabel('False Positive Rate')\n",
    "plt.ylabel('True Positive Rate')\n",
    "plt.legend(loc=\"lower right\")\n",
    "\n",
    "print('training score:' + str(clf_roc.score(x_train_roc, y_train_roc)))\n",
    "print('validation score:' + str(clf_roc.score(x_val_roc,y_val_roc)))"
   ]
  },
  {
   "cell_type": "markdown",
   "id": "93ff9e31",
   "metadata": {},
   "source": [
    "## Fit Model and Predict"
   ]
  },
  {
   "cell_type": "markdown",
   "id": "b477db92-f7b2-4c22-8fab-0eba1447dcee",
   "metadata": {},
   "source": [
    "Set classifier parameters to optimal values identified by cross-validation and fit on entire training set, then output predictions on test set"
   ]
  },
  {
   "cell_type": "code",
   "execution_count": 43,
   "id": "64f30478-9067-421b-9f44-074f98676c60",
   "metadata": {},
   "outputs": [
    {
     "name": "stdout",
     "output_type": "stream",
     "text": [
      "training score:1.0\n"
     ]
    }
   ],
   "source": [
    "# Set parameters of model as the best parameters resulting from the search\n",
    "clf.set_params(**search.best_params_)\n",
    "clf.fit(x_trn, y_trn)\n",
    "\n",
    "# Create and save predictions\n",
    "y_pred = clf.predict(x_tst)\n",
    "pickle.dump(y_pred,open(\"./data/y_pred_LinearSVC_SGD.pkl\", \"wb\"))\n",
    "\n",
    "print('training score:' + str(clf.score(x_trn, y_trn)))"
   ]
  },
  {
   "cell_type": "markdown",
   "id": "89bb06e5",
   "metadata": {},
   "source": [
    "## Importance Score Plot"
   ]
  },
  {
   "cell_type": "markdown",
   "id": "407c29ae",
   "metadata": {},
   "source": [
    "Plot and save feature importance scores to determine top features"
   ]
  },
  {
   "cell_type": "code",
   "execution_count": 44,
   "id": "58fc7dac",
   "metadata": {},
   "outputs": [
    {
     "data": {
      "image/png": "[encoded data removed]",
      "text/plain": [
       "<Figure size 432x288 with 1 Axes>"
      ]
     },
     "metadata": {
      "needs_background": "light"
     },
     "output_type": "display_data"
    }
   ],
   "source": [
    "# Get model coefficients as an array\n",
    "coef = clf.coef_\n",
    "coef = coef[0,:]\n",
    "# Get model features\n",
    "features = x_trn.columns\n",
    "# Sort the coefficients by their magnitude\n",
    "arg_rank = np.argsort(-np.abs(coef))\n",
    "# Get the number of features\n",
    "used_features = len(features)\n",
    "\n",
    "# Plot coefficient chart\n",
    "plt.hlines( np.arange(used_features),0,coef, color='red')\n",
    "plt.plot(coef, np.arange(used_features), 'D')\n",
    "plt.plot([0, 0], [np.arange(used_features).min(), np.arange(used_features).max()], '--')\n",
    "plt.title(\"Logistic Regression (SGD) Importance Scores\")\n",
    "plt.ylabel(\"Access Behavior Anomaly Features\")\n",
    "plt.xlabel(\"Coefficients from Access Behavior Anomaly model\")\n",
    "plt.yticks(np.arange(used_features),features)\n",
    "plt.tight_layout()\n",
    "plt.savefig(\"./figures/importance_score_plot_LogReg_SGD.png\")"
   ]
  }
 ],
 "metadata": {
  "kernelspec": {
   "display_name": "Python 3",
   "language": "python",
   "name": "python3"
  },
  "language_info": {
   "codemirror_mode": {
    "name": "ipython",
    "version": 3
   },
   "file_extension": ".py",
   "mimetype": "text/x-python",
   "name": "python",
   "nbconvert_exporter": "python",
   "pygments_lexer": "ipython3",
   "version": "3.8.8"
  }
 },
 "nbformat": 4,
 "nbformat_minor": 5
}
