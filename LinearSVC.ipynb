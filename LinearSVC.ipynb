{
 "cells": [
  {
   "cell_type": "code",
   "execution_count": 1,
   "id": "ee09d069-4134-4699-a2b2-ee573e7147f6",
   "metadata": {},
   "outputs": [],
   "source": [
    "import numpy as np\n",
    "import pandas as pd\n",
    "import pickle\n",
    "import matplotlib.pyplot as plt\n",
    "from sklearn.model_selection import StratifiedKFold\n",
    "from sklearn.svm import LinearSVC\n",
    "from sklearn.experimental import enable_halving_search_cv\n",
    "from sklearn.model_selection import HalvingGridSearchCV\n",
    "from sklearn.model_selection import ParameterGrid\n",
    "from sklearn.metrics import RocCurveDisplay\n",
    "from sklearn.model_selection import learning_curve\n",
    "from sklearn import metrics\n",
    "from sklearn.metrics import roc_auc_score\n",
    "from sklearn.metrics import roc_curve, auc"
   ]
  },
  {
   "cell_type": "markdown",
   "id": "7a1ea59c-66dd-4aff-828f-d5c866762eea",
   "metadata": {},
   "source": [
    "# Linear SVC\n",
    "\n",
    "Load data"
   ]
  },
  {
   "cell_type": "code",
   "execution_count": 2,
   "id": "c301db16-b873-4395-8910-230f2ad15be1",
   "metadata": {},
   "outputs": [],
   "source": [
    "x_trn = pd.read_pickle(\"./data/x_train.pkl\")\n",
    "y_trn = pd.read_pickle(\"./data/y_train.pkl\")\n",
    "x_tst = pd.read_pickle(\"./data/x_test.pkl\")\n",
    "x_train_roc = pd.read_pickle(\"./data/x_train_roc.pkl\")\n",
    "y_train_roc = pd.read_pickle(\"./data/y_train_roc.pkl\")\n",
    "x_val_roc = pd.read_pickle(\"./data/x_val_roc.pkl\")\n",
    "y_val_roc = pd.read_pickle(\"./data/y_val_roc.pkl\")"
   ]
  },
  {
   "cell_type": "markdown",
   "id": "c8d1a193-e636-4e4e-8306-ed0ec837600e",
   "metadata": {},
   "source": [
    "Set random seed"
   ]
  },
  {
   "cell_type": "code",
   "execution_count": 3,
   "id": "cb7f2f2e-2640-4b3c-95d2-6e532977e4ff",
   "metadata": {},
   "outputs": [],
   "source": [
    "rng = np.random.RandomState(0)"
   ]
  },
  {
   "cell_type": "markdown",
   "id": "595de8af-873b-42ca-8cc4-33f58810776d",
   "metadata": {},
   "source": [
    "Create cross-validation generator"
   ]
  },
  {
   "cell_type": "code",
   "execution_count": 4,
   "id": "b2c92b79-1ab1-4bbc-bc67-e017b4aa27d0",
   "metadata": {},
   "outputs": [],
   "source": [
    "cvg = StratifiedKFold(n_splits=5, shuffle=False)"
   ]
  },
  {
   "cell_type": "markdown",
   "id": "8b506cdb-bf57-47b2-8cf0-97d9dc370e1e",
   "metadata": {},
   "source": [
    "Create an instance of the classifier we want to use"
   ]
  },
  {
   "cell_type": "code",
   "execution_count": 5,
   "id": "afe180b4-d587-458b-8870-195ed4548de4",
   "metadata": {},
   "outputs": [],
   "source": [
    "clf = LinearSVC(penalty='l2', loss='hinge', random_state=rng)"
   ]
  },
  {
   "cell_type": "markdown",
   "id": "f00c8c15-f47d-48ea-a152-9c631e4a0f1d",
   "metadata": {},
   "source": [
    "Take a look at the parameters we'll need to create a grid for"
   ]
  },
  {
   "cell_type": "code",
   "execution_count": 6,
   "id": "4d213173-aaa1-4a76-8970-99a7a5ab9dbe",
   "metadata": {},
   "outputs": [
    {
     "data": {
      "text/plain": [
       "{'C': 1.0,\n",
       " 'class_weight': None,\n",
       " 'dual': True,\n",
       " 'fit_intercept': True,\n",
       " 'intercept_scaling': 1,\n",
       " 'loss': 'hinge',\n",
       " 'max_iter': 1000,\n",
       " 'multi_class': 'ovr',\n",
       " 'penalty': 'l2',\n",
       " 'random_state': RandomState(MT19937) at 0x7FB5E8F54C40,\n",
       " 'tol': 0.0001,\n",
       " 'verbose': 0}"
      ]
     },
     "execution_count": 6,
     "metadata": {},
     "output_type": "execute_result"
    }
   ],
   "source": [
    "clf.get_params(deep=False)"
   ]
  },
  {
   "cell_type": "markdown",
   "id": "e6c7616e-70bc-4a0c-8612-b4f10a25f7e8",
   "metadata": {},
   "source": [
    "Create parameter grid"
   ]
  },
  {
   "cell_type": "code",
   "execution_count": 7,
   "id": "cac2f99b-d09a-47c6-8966-7015dc280088",
   "metadata": {},
   "outputs": [],
   "source": [
    "param_grid = {'C':np.logspace(-1,1,num=15,base=10,dtype='float'),\n",
    "              'intercept_scaling':np.logspace(-1,1,num=15,base=10,dtype='float'),\n",
    "              'tol':np.logspace(-5,-3,num=20,base=10,dtype='float')}"
   ]
  },
  {
   "cell_type": "markdown",
   "id": "2076d4fe-aa4b-4a3c-ba29-45f0a20cd1b4",
   "metadata": {},
   "source": [
    "Create successive halving grid search cross-validation estimator"
   ]
  },
  {
   "cell_type": "code",
   "execution_count": 8,
   "id": "1f3b5c9c-5a03-428f-833b-0a24b9f3b065",
   "metadata": {
    "tags": []
   },
   "outputs": [
    {
     "name": "stdout",
     "output_type": "stream",
     "text": [
      "LinearSVC(C=1.3894954943731375, intercept_scaling=0.7196856730011519,\n",
      "          loss='hinge', random_state=RandomState(MT19937) at 0x7FB5E91E4540,\n",
      "          tol=0.00029763514416313193)\n",
      "{'C': 1.3894954943731375, 'intercept_scaling': 0.7196856730011519, 'tol': 0.00029763514416313193}\n"
     ]
    }
   ],
   "source": [
    "from warnings import simplefilter\n",
    "from sklearn.exceptions import ConvergenceWarning\n",
    "simplefilter(\"ignore\", category=ConvergenceWarning)\n",
    "\n",
    "search = HalvingGridSearchCV(estimator=clf, \n",
    "                             param_grid=param_grid, \n",
    "                             factor=2,\n",
    "                             cv=cvg, \n",
    "                             random_state=rng)\n",
    "search.fit(x_trn, y_trn)\n",
    "print(search.best_estimator_)\n",
    "print(search.best_params_)"
   ]
  },
  {
   "cell_type": "markdown",
   "id": "232e663a-7f75-434e-b551-42610e96a978",
   "metadata": {},
   "source": [
    "Create and save successive halving heatmap https://scikit-learn.org/stable/auto_examples/model_selection/plot_successive_halving_heatmap.html#"
   ]
  },
  {
   "cell_type": "code",
   "execution_count": 9,
   "id": "23959996-688e-4c59-8221-902d0f94c148",
   "metadata": {},
   "outputs": [],
   "source": [
    "#TODO"
   ]
  },
  {
   "cell_type": "markdown",
   "id": "c3f94248-96c9-40a8-8b20-24f907b51a99",
   "metadata": {},
   "source": [
    "Plot and save candidate scores over successive halving iterations https://scikit-learn.org/stable/auto_examples/model_selection/plot_successive_halving_iterations.html#"
   ]
  },
  {
   "cell_type": "code",
   "execution_count": 10,
   "id": "1663fe8c-d1b6-45fe-879f-840c74555c91",
   "metadata": {},
   "outputs": [
    {
     "data": {
      "image/png": "[encoded data removed]",
      "text/plain": [
       "<Figure size 432x288 with 1 Axes>"
      ]
     },
     "metadata": {
      "needs_background": "light"
     },
     "output_type": "display_data"
    }
   ],
   "source": [
    "results = pd.DataFrame(search.cv_results_)\n",
    "results[\"params_str\"] = results.params.apply(str)\n",
    "results.drop_duplicates(subset=(\"params_str\", \"iter\"), inplace=True)\n",
    "mean_scores = results.pivot(\n",
    "    index=\"iter\", columns=\"params_str\", values=\"mean_test_score\"\n",
    ")\n",
    "ax = mean_scores.plot(legend=False, alpha=0.6)\n",
    "\n",
    "labels = [\n",
    "    f\"iter={i}\\nn_samples={search.n_resources_[i]}\\nn_candidates={search.n_candidates_[i]}\"\n",
    "    for i in range(search.n_iterations_)\n",
    "]\n",
    "\n",
    "ax.set_xticks(range(search.n_iterations_))\n",
    "ax.set_xticklabels(labels, rotation=45, multialignment=\"left\")\n",
    "ax.set_title(\"Scores of candidates over iterations\")\n",
    "ax.set_ylabel(\"mean test score\", fontsize=15)\n",
    "ax.set_xlabel(\"iterations\", fontsize=15)\n",
    "plt.tight_layout()\n",
    "plt.show()\n",
    "#TODO: save plot"
   ]
  },
  {
   "cell_type": "markdown",
   "id": "cf0e722c-ad30-4c85-abd8-936a302ae0bd",
   "metadata": {},
   "source": [
    "Plot and save ROC curve https://scikit-learn.org/stable/modules/generated/sklearn.metrics.RocCurveDisplay.html#sklearn.metrics.RocCurveDisplay.from_predictions"
   ]
  },
  {
   "cell_type": "code",
   "execution_count": 14,
   "id": "46bd2874-6d74-4ebf-b7ce-1fbecb1d3aa3",
   "metadata": {},
   "outputs": [
    {
     "name": "stdout",
     "output_type": "stream",
     "text": [
      "training score:1.0\n",
      "validation score:1.0\n"
     ]
    },
    {
     "data": {
      "image/png": "[encoded data removed]",
      "text/plain": [
       "<Figure size 432x288 with 1 Axes>"
      ]
     },
     "metadata": {
      "needs_background": "light"
     },
     "output_type": "display_data"
    }
   ],
   "source": [
    "clf_roc = LinearSVC(penalty='l2', loss='hinge', random_state=rng)\n",
    "clf_roc.set_params(**search.best_params_)\n",
    "clf_roc.fit(x_train_roc, y_train_roc)\n",
    "y_pred_roc = clf_roc.predict(x_val_roc)\n",
    "\n",
    "fpr, tpr, _ = roc_curve(y_val_roc, y_pred_roc, pos_label=1)\n",
    "roc_auc = auc(fpr, tpr)\t\n",
    "\n",
    "AUC = metrics.auc(fpr, tpr)\n",
    "AUC\n",
    "\n",
    "plt.figure()\n",
    "lw = 2\n",
    "plt.plot(fpr, tpr, color='darkorange',\n",
    "         lw=lw, label='AUROC for Clinical (area = %0.2f)' % roc_auc)\n",
    "plt.plot([0, 1], [0, 1], color='navy', lw=lw, linestyle='--')\n",
    "plt.xlim([0.0, 1.0])\n",
    "plt.ylim([0.0, 1.0])\n",
    "plt.xlabel('False Positive Rate')\n",
    "plt.ylabel('True Positive Rate')\n",
    "plt.legend(loc=\"lower right\")\n",
    "\n",
    "print('training score:' + str(clf_roc.score(x_train_roc, y_train_roc)))\n",
    "print('validation score:' + str(clf_roc.score(x_val_roc,y_val_roc)))"
   ]
  },
  {
   "cell_type": "markdown",
   "id": "cea83887-9480-4a1b-bbfa-a8ff211f8781",
   "metadata": {},
   "source": [
    "Set classifier parameters to optimal values identified by cross-validation and fit on entire training set, then output predictions on test set"
   ]
  },
  {
   "cell_type": "code",
   "execution_count": 15,
   "id": "96687fbf-dd06-4104-bbd9-fb77e3f2513a",
   "metadata": {},
   "outputs": [
    {
     "name": "stdout",
     "output_type": "stream",
     "text": [
      "training score:1.0\n"
     ]
    }
   ],
   "source": [
    "clf.set_params(**search.best_params_)\n",
    "clf.fit(x_trn, y_trn)\n",
    "\n",
    "#we need to decide what to do with these predictions, since it's an unlabeled test set.\n",
    "y_pred = clf.predict(x_tst)\n",
    "pickle.dump(y_pred,open(\"./data/y_pred_LinearSVC.pkl\", \"wb\"))\n",
    "\n",
    "print('training score:' + str(clf.score(x_trn, y_trn)))"
   ]
  },
  {
   "cell_type": "markdown",
   "id": "bd772210",
   "metadata": {},
   "source": [
    "Plot and save feature importance scores to determine top features"
   ]
  },
  {
   "cell_type": "code",
   "execution_count": 16,
   "id": "21d1532f",
   "metadata": {},
   "outputs": [
    {
     "data": {
      "image/png": "[encoded data removed]",
      "text/plain": [
       "<Figure size 432x288 with 1 Axes>"
      ]
     },
     "metadata": {
      "needs_background": "light"
     },
     "output_type": "display_data"
    }
   ],
   "source": [
    "coef = clf.coef_\n",
    "coef = coef[0,:]\n",
    "features = x_trn.columns\n",
    "arg_rank = np.argsort(-np.abs(coef))\n",
    "\n",
    "used_features = len(features)\n",
    "\n",
    "# Plot coefficient chart\n",
    "plt.hlines( np.arange(used_features),0,coef, color='red')\n",
    "plt.plot(coef, np.arange(used_features), 'D')\n",
    "plt.plot([0, 0], [np.arange(used_features).min(), np.arange(used_features).max()], '--')\n",
    "plt.title(\"Coefficients of Access Behavior Anomaly Model\")\n",
    "plt.ylabel(\"Access Behavior Anomaly Features\")\n",
    "plt.xlabel(\"Coefficients from Access Behavior Anomaly model\")\n",
    "plt.yticks(np.arange(used_features),features)\n",
    "plt.tight_layout()"
   ]
  }
 ],
 "metadata": {
  "kernelspec": {
   "display_name": "Python 3",
   "language": "python",
   "name": "python3"
  },
  "language_info": {
   "codemirror_mode": {
    "name": "ipython",
    "version": 3
   },
   "file_extension": ".py",
   "mimetype": "text/x-python",
   "name": "python",
   "nbconvert_exporter": "python",
   "pygments_lexer": "ipython3",
   "version": "3.8.8"
  }
 },
 "nbformat": 4,
 "nbformat_minor": 5
}
