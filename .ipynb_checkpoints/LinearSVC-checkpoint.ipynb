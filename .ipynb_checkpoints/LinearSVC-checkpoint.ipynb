{
 "cells": [
  {
   "cell_type": "markdown",
   "id": "11e194cb",
   "metadata": {},
   "source": [
    "# Linear SVC"
   ]
  },
  {
   "cell_type": "markdown",
   "id": "b144b3a8",
   "metadata": {},
   "source": [
    "## Import Libraries"
   ]
  },
  {
   "cell_type": "code",
   "execution_count": 24,
   "id": "d1ed479f",
   "metadata": {},
   "outputs": [],
   "source": [
    "import numpy as np\n",
    "import pandas as pd\n",
    "import pickle\n",
    "import matplotlib.pyplot as plt\n",
    "from sklearn.model_selection import StratifiedKFold\n",
    "from sklearn.svm import LinearSVC\n",
    "from sklearn.experimental import enable_halving_search_cv\n",
    "from sklearn.model_selection import HalvingGridSearchCV\n",
    "from sklearn.model_selection import ParameterGrid\n",
    "from sklearn.metrics import RocCurveDisplay\n",
    "from sklearn.model_selection import learning_curve\n",
    "from sklearn import metrics\n",
    "from sklearn.metrics import roc_auc_score\n",
    "from sklearn.metrics import roc_curve, auc\n",
    "from warnings import simplefilter\n",
    "from sklearn.exceptions import ConvergenceWarning"
   ]
  },
  {
   "cell_type": "markdown",
   "id": "7a1ea59c-66dd-4aff-828f-d5c866762eea",
   "metadata": {},
   "source": [
    "## Load Data\n",
    "Preprocessed train (x, y) and test (x) datasets for model training and testing as well as separate x/y train/val datasets for ROC computation."
   ]
  },
  {
   "cell_type": "code",
   "execution_count": 18,
   "id": "c301db16-b873-4395-8910-230f2ad15be1",
   "metadata": {},
   "outputs": [],
   "source": [
    "x_trn = pd.read_pickle(\"./data/x_train.pkl\")\n",
    "y_trn = pd.read_pickle(\"./data/y_train.pkl\")\n",
    "x_tst = pd.read_pickle(\"./data/x_test.pkl\")\n",
    "x_train_roc = pd.read_pickle(\"./data/x_train_roc.pkl\")\n",
    "y_train_roc = pd.read_pickle(\"./data/y_train_roc.pkl\")\n",
    "x_val_roc = pd.read_pickle(\"./data/x_val_roc.pkl\")\n",
    "y_val_roc = pd.read_pickle(\"./data/y_val_roc.pkl\")"
   ]
  },
  {
   "cell_type": "markdown",
   "id": "a8f01690",
   "metadata": {},
   "source": [
    "## Initialize Model"
   ]
  },
  {
   "cell_type": "markdown",
   "id": "c8d1a193-e636-4e4e-8306-ed0ec837600e",
   "metadata": {},
   "source": [
    "Set random seed"
   ]
  },
  {
   "cell_type": "code",
   "execution_count": 19,
   "id": "cb7f2f2e-2640-4b3c-95d2-6e532977e4ff",
   "metadata": {},
   "outputs": [],
   "source": [
    "rng = np.random.RandomState(0)"
   ]
  },
  {
   "cell_type": "markdown",
   "id": "595de8af-873b-42ca-8cc4-33f58810776d",
   "metadata": {},
   "source": [
    "Create cross-validation generator"
   ]
  },
  {
   "cell_type": "code",
   "execution_count": 21,
   "id": "b2c92b79-1ab1-4bbc-bc67-e017b4aa27d0",
   "metadata": {},
   "outputs": [],
   "source": [
    "# Dataset split into 5 parts (80% | 20% Train/Val)\n",
    "cvg = StratifiedKFold(n_splits=5, shuffle=False)"
   ]
  },
  {
   "cell_type": "markdown",
   "id": "8b506cdb-bf57-47b2-8cf0-97d9dc370e1e",
   "metadata": {},
   "source": [
    "Create an instance of the classifier we want to use"
   ]
  },
  {
   "cell_type": "code",
   "execution_count": 22,
   "id": "afe180b4-d587-458b-8870-195ed4548de4",
   "metadata": {},
   "outputs": [],
   "source": [
    "# Specify model penalty and loss: l2 used in standard SVC, hinge is the standard SVM loss\n",
    "clf = LinearSVC(penalty='l2', loss='hinge', random_state=rng)"
   ]
  },
  {
   "cell_type": "markdown",
   "id": "5c7645a1",
   "metadata": {},
   "source": [
    "## Hyperparameter Tuning"
   ]
  },
  {
   "cell_type": "markdown",
   "id": "f00c8c15-f47d-48ea-a152-9c631e4a0f1d",
   "metadata": {},
   "source": [
    "Take a look at the parameters we'll need to create a grid for"
   ]
  },
  {
   "cell_type": "code",
   "execution_count": 23,
   "id": "4d213173-aaa1-4a76-8970-99a7a5ab9dbe",
   "metadata": {},
   "outputs": [
    {
     "data": {
      "text/plain": [
       "{'C': 1.0,\n",
       " 'class_weight': None,\n",
       " 'dual': True,\n",
       " 'fit_intercept': True,\n",
       " 'intercept_scaling': 1,\n",
       " 'loss': 'hinge',\n",
       " 'max_iter': 1000,\n",
       " 'multi_class': 'ovr',\n",
       " 'penalty': 'l2',\n",
       " 'random_state': RandomState(MT19937) at 0x7FB5E9B81D40,\n",
       " 'tol': 0.0001,\n",
       " 'verbose': 0}"
      ]
     },
     "execution_count": 23,
     "metadata": {},
     "output_type": "execute_result"
    }
   ],
   "source": [
    "clf.get_params(deep=False)"
   ]
  },
  {
   "cell_type": "markdown",
   "id": "e6c7616e-70bc-4a0c-8612-b4f10a25f7e8",
   "metadata": {},
   "source": [
    "Create parameter grid"
   ]
  },
  {
   "cell_type": "code",
   "execution_count": 7,
   "id": "cac2f99b-d09a-47c6-8966-7015dc280088",
   "metadata": {},
   "outputs": [],
   "source": [
    "param_grid = {'C':np.logspace(-1,1,num=15,base=10,dtype='float'),\n",
    "              'intercept_scaling':np.logspace(-1,1,num=15,base=10,dtype='float'),\n",
    "              'tol':np.logspace(-5,-3,num=20,base=10,dtype='float')}"
   ]
  },
  {
   "cell_type": "markdown",
   "id": "2076d4fe-aa4b-4a3c-ba29-45f0a20cd1b4",
   "metadata": {},
   "source": [
    "Create successive halving grid search cross-validation estimator"
   ]
  },
  {
   "cell_type": "code",
   "execution_count": 25,
   "id": "1f3b5c9c-5a03-428f-833b-0a24b9f3b065",
   "metadata": {
    "tags": []
   },
   "outputs": [
    {
     "name": "stdout",
     "output_type": "stream",
     "text": [
      "LinearSVC(C=1.3894954943731375, intercept_scaling=0.7196856730011519,\n",
      "          loss='hinge', random_state=RandomState(MT19937) at 0x7FB5EA961040,\n",
      "          tol=0.00029763514416313193)\n",
      "{'C': 1.3894954943731375, 'intercept_scaling': 0.7196856730011519, 'tol': 0.00029763514416313193}\n"
     ]
    }
   ],
   "source": [
    "# Ignore convergence warning messages\n",
    "simplefilter(\"ignore\", category=ConvergenceWarning)\n",
    "\n",
    "# Initialize HalvingGridSearch with parameter grid, model,\n",
    "# and factor = 2 to select half the candidates for subsequent iterations\n",
    "search = HalvingGridSearchCV(estimator=clf, \n",
    "                             param_grid=param_grid, \n",
    "                             factor=2,\n",
    "                             cv=cvg, \n",
    "                             random_state=rng)\n",
    "\n",
    "# Searches over parameter grid with successive halving of x and y train\n",
    "search.fit(x_trn, y_trn)\n",
    "\n",
    "# Identify the best model parameters to fit the model on later\n",
    "print(search.best_estimator_)\n",
    "print(search.best_params_)"
   ]
  },
  {
   "cell_type": "markdown",
   "id": "4db3471c",
   "metadata": {},
   "source": [
    "## Candidate Score Plot"
   ]
  },
  {
   "cell_type": "markdown",
   "id": "c3f94248-96c9-40a8-8b20-24f907b51a99",
   "metadata": {},
   "source": [
    "Plot and save candidate scores over successive halving iterations "
   ]
  },
  {
   "cell_type": "code",
   "execution_count": 26,
   "id": "1663fe8c-d1b6-45fe-879f-840c74555c91",
   "metadata": {},
   "outputs": [
    {
     "data": {
      "image/png": "[encoded data removed]",
      "text/plain": [
       "<Figure size 432x288 with 1 Axes>"
      ]
     },
     "metadata": {
      "needs_background": "light"
     },
     "output_type": "display_data"
    },
    {
     "data": {
      "text/plain": [
       "<Figure size 432x288 with 0 Axes>"
      ]
     },
     "metadata": {},
     "output_type": "display_data"
    }
   ],
   "source": [
    "# Initialize variable containing results of HalvingGridSearch\n",
    "results = pd.DataFrame(search.cv_results_)\n",
    "# Convert parameters to str\n",
    "results[\"params_str\"] = results.params.apply(str)\n",
    "# Remove duplicate results\n",
    "results.drop_duplicates(subset=(\"params_str\", \"iter\"), inplace=True)\n",
    "# Get mean test scores\n",
    "mean_scores = results.pivot(\n",
    "    index=\"iter\", columns=\"params_str\", values=\"mean_test_score\"\n",
    ")\n",
    "\n",
    "# Create a plot of candidates' scores over multiple iterations\n",
    "ax = mean_scores.plot(legend=False, alpha=0.6)\n",
    "\n",
    "labels = [\n",
    "    f\"iter={i}\\nn_samples={search.n_resources_[i]}\\nn_candidates={search.n_candidates_[i]}\"\n",
    "    for i in range(search.n_iterations_)\n",
    "]\n",
    "\n",
    "ax.set_xticks(range(search.n_iterations_))\n",
    "ax.set_xticklabels(labels, rotation=45, multialignment=\"left\")\n",
    "ax.set_title(\"Scores of candidates over iterations\")\n",
    "ax.set_ylabel(\"mean test score\", fontsize=15)\n",
    "ax.set_xlabel(\"iterations\", fontsize=15)\n",
    "plt.tight_layout()\n",
    "plt.show()\n",
    "plt.savefig(\"./figures/candidate_score_plot_LinearSVC.png\")"
   ]
  },
  {
   "cell_type": "markdown",
   "id": "77771808",
   "metadata": {},
   "source": [
    "## ROC Curve"
   ]
  },
  {
   "cell_type": "markdown",
   "id": "cf0e722c-ad30-4c85-abd8-936a302ae0bd",
   "metadata": {},
   "source": [
    "Plot and save ROC curve "
   ]
  },
  {
   "cell_type": "code",
   "execution_count": 31,
   "id": "46bd2874-6d74-4ebf-b7ce-1fbecb1d3aa3",
   "metadata": {},
   "outputs": [
    {
     "name": "stdout",
     "output_type": "stream",
     "text": [
      "training score:1.0\n",
      "validation score:1.0\n"
     ]
    },
    {
     "data": {
      "image/png": "[encoded data removed]",
      "text/plain": [
       "<Figure size 432x288 with 1 Axes>"
      ]
     },
     "metadata": {
      "needs_background": "light"
     },
     "output_type": "display_data"
    }
   ],
   "source": [
    "# Train the model on the datasets (train/val) imported for ROC \n",
    "clf_roc = LinearSVC(penalty='l2', loss='hinge', random_state=rng)\n",
    "# Specify the best parameters from the HalvingGridSearch to fit the model on\n",
    "clf_roc.set_params(**search.best_params_)\n",
    "clf_roc.fit(x_train_roc, y_train_roc)\n",
    "y_pred_roc = clf_roc.predict(x_val_roc)\n",
    "\n",
    "# Compute the false positive and true positive rate\n",
    "fpr, tpr, _ = roc_curve(y_val_roc, y_pred_roc, pos_label=1)\n",
    "\n",
    "# Compute AUROC\n",
    "roc_auc = auc(fpr, tpr)\t\n",
    "\n",
    "# Plot the ROC curve\n",
    "plt.figure()\n",
    "lw = 2\n",
    "plt.plot(fpr, tpr, color='darkorange',\n",
    "         lw=lw, label='AUROC LinearSVC (area = %0.2f)' % roc_auc)\n",
    "plt.plot([0, 1], [0, 1], color='navy', lw=lw, linestyle='--')\n",
    "plt.xlim([0.0, 1.0])\n",
    "plt.ylim([0.0, 1.0])\n",
    "plt.xlabel('False Positive Rate')\n",
    "plt.ylabel('True Positive Rate')\n",
    "plt.legend(loc=\"lower right\")\n",
    "plt.savefig(\"./figures/roc_curve_LinearSVC.png\")\n",
    "\n",
    "# Get the training and validation score\n",
    "print('training score:' + str(clf_roc.score(x_train_roc, y_train_roc)))\n",
    "print('validation score:' + str(clf_roc.score(x_val_roc,y_val_roc)))"
   ]
  },
  {
   "cell_type": "markdown",
   "id": "52cf5594",
   "metadata": {},
   "source": [
    "## Fit Model and Predict"
   ]
  },
  {
   "cell_type": "markdown",
   "id": "cea83887-9480-4a1b-bbfa-a8ff211f8781",
   "metadata": {},
   "source": [
    "Set classifier parameters to optimal values identified by cross-validation and fit on entire training set, then output predictions on test set"
   ]
  },
  {
   "cell_type": "code",
   "execution_count": 32,
   "id": "96687fbf-dd06-4104-bbd9-fb77e3f2513a",
   "metadata": {},
   "outputs": [
    {
     "name": "stdout",
     "output_type": "stream",
     "text": [
      "training score:1.0\n"
     ]
    }
   ],
   "source": [
    "# Set parameters of model as the best parameters resulting from the search\n",
    "clf.set_params(**search.best_params_)\n",
    "clf.fit(x_trn, y_trn)\n",
    "\n",
    "# Create and save predictions\n",
    "y_pred = clf.predict(x_tst)\n",
    "pickle.dump(y_pred,open(\"./data/y_pred_LinearSVC.pkl\", \"wb\"))\n",
    "\n",
    "print('training score:' + str(clf.score(x_trn, y_trn)))"
   ]
  },
  {
   "cell_type": "markdown",
   "id": "fb6aafe5",
   "metadata": {},
   "source": [
    "## Importance Score Plot"
   ]
  },
  {
   "cell_type": "markdown",
   "id": "bd772210",
   "metadata": {},
   "source": [
    "Plot and save feature importance scores to determine top features"
   ]
  },
  {
   "cell_type": "code",
   "execution_count": 34,
   "id": "21d1532f",
   "metadata": {},
   "outputs": [
    {
     "data": {
      "image/png": "[encoded data removed]",
      "text/plain": [
       "<Figure size 432x288 with 1 Axes>"
      ]
     },
     "metadata": {
      "needs_background": "light"
     },
     "output_type": "display_data"
    }
   ],
   "source": [
    "# Get model coefficients as an array\n",
    "coef = clf.coef_\n",
    "coef = coef[0,:]\n",
    "# Get model features\n",
    "features = x_trn.columns\n",
    "# Sort the coefficients by their magnitude\n",
    "arg_rank = np.argsort(-np.abs(coef))\n",
    "# Get the number of features\n",
    "used_features = len(features)\n",
    "\n",
    "# Plot coefficient chart\n",
    "plt.hlines( np.arange(used_features),0,coef, color='red')\n",
    "plt.plot(coef, np.arange(used_features), 'D')\n",
    "plt.plot([0, 0], [np.arange(used_features).min(), np.arange(used_features).max()], '--')\n",
    "plt.title(\"Linear SVC Importance Scores\")\n",
    "plt.ylabel(\"Access Behavior Anomaly Features\")\n",
    "plt.xlabel(\"Coefficients from Access Behavior Anomaly model\")\n",
    "plt.yticks(np.arange(used_features),features)\n",
    "plt.tight_layout()\n",
    "plt.savefig(\"./figures/importance_score_plot_LinearSVC.png\")"
   ]
  }
 ],
 "metadata": {
  "kernelspec": {
   "display_name": "Python 3",
   "language": "python",
   "name": "python3"
  },
  "language_info": {
   "codemirror_mode": {
    "name": "ipython",
    "version": 3
   },
   "file_extension": ".py",
   "mimetype": "text/x-python",
   "name": "python",
   "nbconvert_exporter": "python",
   "pygments_lexer": "ipython3",
   "version": "3.8.8"
  }
 },
 "nbformat": 4,
 "nbformat_minor": 5
}
